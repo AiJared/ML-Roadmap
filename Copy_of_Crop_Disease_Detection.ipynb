{
  "cells": [
    {
      "cell_type": "markdown",
      "metadata": {
        "id": "view-in-github",
        "colab_type": "text"
      },
      "source": [
        "<a href=\"https://colab.research.google.com/github/Kerriea-star/AI_MLRoadmap/blob/master/Copy_of_Crop_Disease_Detection.ipynb\" target=\"_parent\"><img src=\"https://colab.research.google.com/assets/colab-badge.svg\" alt=\"Open In Colab\"/></a>"
      ]
    },
    {
      "cell_type": "markdown",
      "source": [
        "Crop Disease Detection Deep Learning Project"
      ],
      "metadata": {
        "id": "MQ--SyobJg7N"
      },
      "id": "MQ--SyobJg7N"
    },
    {
      "cell_type": "code",
      "source": [
        "# Global Feature Extraction\n",
        "from sklearn.preprocessing import LabelEncoder\n",
        "from sklearn.preprocessing import MinMaxScaler\n",
        "import numpy as np\n",
        "import mahotas\n",
        "import cv2\n",
        "import os\n",
        "import h5py\n",
        "\n",
        "# tunable Parameters\n",
        "images_per_class = 800\n",
        "fixed_size = tuple((500, 500))\n",
        "train_path = \"dataset/train\"\n",
        "h5_train_data = \"output/train_data.h5\"\n",
        "h5_train_labels = \"output/train_labels.h5\"\n",
        "bins = 8"
      ],
      "metadata": {
        "id": "BWn9000RJnjH"
      },
      "id": "BWn9000RJnjH",
      "execution_count": 4,
      "outputs": []
    },
    {
      "cell_type": "code",
      "source": [
        "# Converting each to RGB from BGR format\n",
        "def rbg_bgr(image):\n",
        "  rbg_img = cv2.cvtColor(image, cv2.COLOR_BGR2RGB)\n",
        "  return rbg_img"
      ],
      "metadata": {
        "id": "tVmUA3I7MFFN"
      },
      "id": "tVmUA3I7MFFN",
      "execution_count": 6,
      "outputs": []
    },
    {
      "cell_type": "code",
      "source": [
        "# Conversion to HSV from RGB format\n",
        "def bgr_hsv(rbg_img):\n",
        "  hsv_img = cv2.cvtColor(rbg_img, cv2.COLOR_RBG2HSV)\n",
        "  return hsv_img"
      ],
      "metadata": {
        "id": "LKFlNv0biv2T"
      },
      "id": "LKFlNv0biv2T",
      "execution_count": 7,
      "outputs": []
    },
    {
      "cell_type": "code",
      "source": [
        "from typing_extensions import final\n",
        "# image segmentation\n",
        "\n",
        "# for extraction of green and brown color\n",
        "\n",
        "def img_segmentation(rgb_img, hsv_img):\n",
        "  lower_green =np.array ([25,0,20])\n",
        "  upper_green = np.array([100,255,255])\n",
        "  healthy_mask = cv2.inRange(hsv_img, lower_green, upper_green)\n",
        "  result = cv2.bitwise_and(rgb_img,rgb_img, mask=healthy_mask)\n",
        "  lower_brown = np.array([10,0,10])\n",
        "  upper_brown = np.array([30,255,255])\n",
        "  disease_mask = cv2.inRange(hsv_img, lower_brown, upper_brown)\n",
        "  disease_result = cv2.bitwise_and(rgb_img, rgb_img, mask=disease_mask)\n",
        "  final_mask = healthy_mask + disease_mask\n",
        "  final_result = cv2.bitwise_and(rgb_img, rgb_img, mask=final_mask)\n",
        "  return final_mask\n"
      ],
      "metadata": {
        "id": "D-q5LKg2kDq-"
      },
      "id": "D-q5LKg2kDq-",
      "execution_count": 8,
      "outputs": []
    },
    {
      "cell_type": "code",
      "source": [
        "# feature descriptor 1 - Hu moments\n",
        "def fd_hu_moments(image):\n",
        "  image = cv2.cvtColor(image, cv2.COLOR_BGR2GRAY)\n",
        "  feature = cv2.HuMoments(cv2.momemts(image)).flatten()\n",
        "  return feature\n"
      ],
      "metadata": {
        "id": "UpvK-coPnXV1"
      },
      "id": "UpvK-coPnXV1",
      "execution_count": 10,
      "outputs": []
    },
    {
      "cell_type": "code",
      "source": [],
      "metadata": {
        "id": "7Pi91PfqoCwl"
      },
      "id": "7Pi91PfqoCwl",
      "execution_count": null,
      "outputs": []
    }
  ],
  "metadata": {
    "colab": {
      "provenance": [],
      "include_colab_link": true
    },
    "language_info": {
      "name": "python"
    },
    "kernelspec": {
      "name": "python3",
      "display_name": "Python 3"
    },
    "gpuClass": "standard"
  },
  "nbformat": 4,
  "nbformat_minor": 5
}