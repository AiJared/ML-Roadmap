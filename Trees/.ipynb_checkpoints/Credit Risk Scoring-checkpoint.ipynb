{
 "cells": [
  {
   "cell_type": "markdown",
   "id": "e89f3bba",
   "metadata": {},
   "source": [
    "## Decision Trees and Ensemble Learning"
   ]
  },
  {
   "cell_type": "markdown",
   "id": "9ee04d64",
   "metadata": {},
   "source": [
    "In this project, we'll learn trees usind <b> Decision Tree</b> and <b>Ensemble learning</b>.\n",
    "\n",
    "The project is <b>Credit Risk Score</b> for loan applicants using using <b>CreditScoring.csv</b> dataset."
   ]
  },
  {
   "cell_type": "markdown",
   "id": "2219a83b",
   "metadata": {},
   "source": [
    "## Data Preparation and Cleaning"
   ]
  },
  {
   "cell_type": "markdown",
   "id": "2fe9f797",
   "metadata": {},
   "source": [
    "- Loading the dataset\n",
    "- Re-encoding the categorical variables\n",
    "- Doing the train/validation/test split"
   ]
  },
  {
   "cell_type": "code",
   "execution_count": null,
   "id": "42b541a2",
   "metadata": {},
   "outputs": [],
   "source": []
  }
 ],
 "metadata": {
  "kernelspec": {
   "display_name": "Python 3 (ipykernel)",
   "language": "python",
   "name": "python3"
  },
  "language_info": {
   "codemirror_mode": {
    "name": "ipython",
    "version": 3
   },
   "file_extension": ".py",
   "mimetype": "text/x-python",
   "name": "python",
   "nbconvert_exporter": "python",
   "pygments_lexer": "ipython3",
   "version": "3.9.12"
  }
 },
 "nbformat": 4,
 "nbformat_minor": 5
}
