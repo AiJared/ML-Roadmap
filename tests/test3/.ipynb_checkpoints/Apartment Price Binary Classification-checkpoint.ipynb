{
 "cells": [
  {
   "cell_type": "markdown",
   "id": "0e24870d",
   "metadata": {},
   "source": [
    "## Data Preparation"
   ]
  },
  {
   "cell_type": "code",
   "execution_count": 1,
   "id": "e2e1f060",
   "metadata": {},
   "outputs": [],
   "source": [
    "# import libraries\n",
    "import pandas as pd\n",
    "import numpy as np\n",
    "import matplotlib.pyplot as plt"
   ]
  },
  {
   "cell_type": "code",
   "execution_count": 2,
   "id": "98cdd19f",
   "metadata": {},
   "outputs": [],
   "source": [
    "# enable viewing all columns regardless how many\n",
    "pd.set_option(\"display.max_columns\", None)"
   ]
  },
  {
   "cell_type": "code",
   "execution_count": 3,
   "id": "afa3fc9f",
   "metadata": {},
   "outputs": [
    {
     "data": {
      "text/html": [
       "<div>\n",
       "<style scoped>\n",
       "    .dataframe tbody tr th:only-of-type {\n",
       "        vertical-align: middle;\n",
       "    }\n",
       "\n",
       "    .dataframe tbody tr th {\n",
       "        vertical-align: top;\n",
       "    }\n",
       "\n",
       "    .dataframe thead th {\n",
       "        text-align: right;\n",
       "    }\n",
       "</style>\n",
       "<table border=\"1\" class=\"dataframe\">\n",
       "  <thead>\n",
       "    <tr style=\"text-align: right;\">\n",
       "      <th></th>\n",
       "      <th>id</th>\n",
       "      <th>name</th>\n",
       "      <th>host_id</th>\n",
       "      <th>host_name</th>\n",
       "      <th>neighbourhood_group</th>\n",
       "      <th>neighbourhood</th>\n",
       "      <th>latitude</th>\n",
       "      <th>longitude</th>\n",
       "      <th>room_type</th>\n",
       "      <th>price</th>\n",
       "      <th>minimum_nights</th>\n",
       "      <th>number_of_reviews</th>\n",
       "      <th>last_review</th>\n",
       "      <th>reviews_per_month</th>\n",
       "      <th>calculated_host_listings_count</th>\n",
       "      <th>availability_365</th>\n",
       "    </tr>\n",
       "  </thead>\n",
       "  <tbody>\n",
       "    <tr>\n",
       "      <th>0</th>\n",
       "      <td>2539</td>\n",
       "      <td>Clean &amp; quiet apt home by the park</td>\n",
       "      <td>2787</td>\n",
       "      <td>John</td>\n",
       "      <td>Brooklyn</td>\n",
       "      <td>Kensington</td>\n",
       "      <td>40.64749</td>\n",
       "      <td>-73.97237</td>\n",
       "      <td>Private room</td>\n",
       "      <td>149</td>\n",
       "      <td>1</td>\n",
       "      <td>9</td>\n",
       "      <td>2018-10-19</td>\n",
       "      <td>0.21</td>\n",
       "      <td>6</td>\n",
       "      <td>365</td>\n",
       "    </tr>\n",
       "    <tr>\n",
       "      <th>1</th>\n",
       "      <td>2595</td>\n",
       "      <td>Skylit Midtown Castle</td>\n",
       "      <td>2845</td>\n",
       "      <td>Jennifer</td>\n",
       "      <td>Manhattan</td>\n",
       "      <td>Midtown</td>\n",
       "      <td>40.75362</td>\n",
       "      <td>-73.98377</td>\n",
       "      <td>Entire home/apt</td>\n",
       "      <td>225</td>\n",
       "      <td>1</td>\n",
       "      <td>45</td>\n",
       "      <td>2019-05-21</td>\n",
       "      <td>0.38</td>\n",
       "      <td>2</td>\n",
       "      <td>355</td>\n",
       "    </tr>\n",
       "    <tr>\n",
       "      <th>2</th>\n",
       "      <td>3647</td>\n",
       "      <td>THE VILLAGE OF HARLEM....NEW YORK !</td>\n",
       "      <td>4632</td>\n",
       "      <td>Elisabeth</td>\n",
       "      <td>Manhattan</td>\n",
       "      <td>Harlem</td>\n",
       "      <td>40.80902</td>\n",
       "      <td>-73.94190</td>\n",
       "      <td>Private room</td>\n",
       "      <td>150</td>\n",
       "      <td>3</td>\n",
       "      <td>0</td>\n",
       "      <td>NaN</td>\n",
       "      <td>NaN</td>\n",
       "      <td>1</td>\n",
       "      <td>365</td>\n",
       "    </tr>\n",
       "    <tr>\n",
       "      <th>3</th>\n",
       "      <td>3831</td>\n",
       "      <td>Cozy Entire Floor of Brownstone</td>\n",
       "      <td>4869</td>\n",
       "      <td>LisaRoxanne</td>\n",
       "      <td>Brooklyn</td>\n",
       "      <td>Clinton Hill</td>\n",
       "      <td>40.68514</td>\n",
       "      <td>-73.95976</td>\n",
       "      <td>Entire home/apt</td>\n",
       "      <td>89</td>\n",
       "      <td>1</td>\n",
       "      <td>270</td>\n",
       "      <td>2019-07-05</td>\n",
       "      <td>4.64</td>\n",
       "      <td>1</td>\n",
       "      <td>194</td>\n",
       "    </tr>\n",
       "    <tr>\n",
       "      <th>4</th>\n",
       "      <td>5022</td>\n",
       "      <td>Entire Apt: Spacious Studio/Loft by central park</td>\n",
       "      <td>7192</td>\n",
       "      <td>Laura</td>\n",
       "      <td>Manhattan</td>\n",
       "      <td>East Harlem</td>\n",
       "      <td>40.79851</td>\n",
       "      <td>-73.94399</td>\n",
       "      <td>Entire home/apt</td>\n",
       "      <td>80</td>\n",
       "      <td>10</td>\n",
       "      <td>9</td>\n",
       "      <td>2018-11-19</td>\n",
       "      <td>0.10</td>\n",
       "      <td>1</td>\n",
       "      <td>0</td>\n",
       "    </tr>\n",
       "  </tbody>\n",
       "</table>\n",
       "</div>"
      ],
      "text/plain": [
       "     id                                              name  host_id  \\\n",
       "0  2539                Clean & quiet apt home by the park     2787   \n",
       "1  2595                             Skylit Midtown Castle     2845   \n",
       "2  3647               THE VILLAGE OF HARLEM....NEW YORK !     4632   \n",
       "3  3831                   Cozy Entire Floor of Brownstone     4869   \n",
       "4  5022  Entire Apt: Spacious Studio/Loft by central park     7192   \n",
       "\n",
       "     host_name neighbourhood_group neighbourhood  latitude  longitude  \\\n",
       "0         John            Brooklyn    Kensington  40.64749  -73.97237   \n",
       "1     Jennifer           Manhattan       Midtown  40.75362  -73.98377   \n",
       "2    Elisabeth           Manhattan        Harlem  40.80902  -73.94190   \n",
       "3  LisaRoxanne            Brooklyn  Clinton Hill  40.68514  -73.95976   \n",
       "4        Laura           Manhattan   East Harlem  40.79851  -73.94399   \n",
       "\n",
       "         room_type  price  minimum_nights  number_of_reviews last_review  \\\n",
       "0     Private room    149               1                  9  2018-10-19   \n",
       "1  Entire home/apt    225               1                 45  2019-05-21   \n",
       "2     Private room    150               3                  0         NaN   \n",
       "3  Entire home/apt     89               1                270  2019-07-05   \n",
       "4  Entire home/apt     80              10                  9  2018-11-19   \n",
       "\n",
       "   reviews_per_month  calculated_host_listings_count  availability_365  \n",
       "0               0.21                               6               365  \n",
       "1               0.38                               2               355  \n",
       "2                NaN                               1               365  \n",
       "3               4.64                               1               194  \n",
       "4               0.10                               1                 0  "
      ]
     },
     "execution_count": 3,
     "metadata": {},
     "output_type": "execute_result"
    }
   ],
   "source": [
    "# load the dataset and create a data frame\n",
    "dataset = pd.read_csv(\"AB_NYC_2019.csv\")\n",
    "df = pd.DataFrame(dataset)\n",
    "df.head()"
   ]
  },
  {
   "cell_type": "code",
   "execution_count": 4,
   "id": "04c9720b",
   "metadata": {},
   "outputs": [
    {
     "name": "stdout",
     "output_type": "stream",
     "text": [
      "Number of rows:  48895\n",
      "Number of columns:  16\n"
     ]
    }
   ],
   "source": [
    "# The size of the dataset\n",
    "print(\"Number of rows: \", df.shape[0])\n",
    "print(\"Number of columns: \", df.shape[1])"
   ]
  },
  {
   "cell_type": "code",
   "execution_count": 5,
   "id": "f0d2a4a8",
   "metadata": {},
   "outputs": [],
   "source": [
    "# make all column names and values of categorical columns uniform in lowercase and replace spaces with underscores\n",
    "df.columns = df.columns.str.lower().str.replace(\" \", \"_\")\n",
    "\n",
    "categorical_columns = list(df.dtypes[df.dtypes == \"object\"].index)\n",
    "\n",
    "for c in categorical_columns:\n",
    "    df[c] = df[c].str.lower().str.replace(\" \", \"_\")"
   ]
  },
  {
   "cell_type": "code",
   "execution_count": 6,
   "id": "2297e07c",
   "metadata": {},
   "outputs": [
    {
     "data": {
      "text/html": [
       "<div>\n",
       "<style scoped>\n",
       "    .dataframe tbody tr th:only-of-type {\n",
       "        vertical-align: middle;\n",
       "    }\n",
       "\n",
       "    .dataframe tbody tr th {\n",
       "        vertical-align: top;\n",
       "    }\n",
       "\n",
       "    .dataframe thead th {\n",
       "        text-align: right;\n",
       "    }\n",
       "</style>\n",
       "<table border=\"1\" class=\"dataframe\">\n",
       "  <thead>\n",
       "    <tr style=\"text-align: right;\">\n",
       "      <th></th>\n",
       "      <th>id</th>\n",
       "      <th>name</th>\n",
       "      <th>host_id</th>\n",
       "      <th>host_name</th>\n",
       "      <th>neighbourhood_group</th>\n",
       "      <th>neighbourhood</th>\n",
       "      <th>latitude</th>\n",
       "      <th>longitude</th>\n",
       "      <th>room_type</th>\n",
       "      <th>price</th>\n",
       "      <th>minimum_nights</th>\n",
       "      <th>number_of_reviews</th>\n",
       "      <th>last_review</th>\n",
       "      <th>reviews_per_month</th>\n",
       "      <th>calculated_host_listings_count</th>\n",
       "      <th>availability_365</th>\n",
       "    </tr>\n",
       "  </thead>\n",
       "  <tbody>\n",
       "    <tr>\n",
       "      <th>0</th>\n",
       "      <td>2539</td>\n",
       "      <td>clean_&amp;_quiet_apt_home_by_the_park</td>\n",
       "      <td>2787</td>\n",
       "      <td>john</td>\n",
       "      <td>brooklyn</td>\n",
       "      <td>kensington</td>\n",
       "      <td>40.64749</td>\n",
       "      <td>-73.97237</td>\n",
       "      <td>private_room</td>\n",
       "      <td>149</td>\n",
       "      <td>1</td>\n",
       "      <td>9</td>\n",
       "      <td>2018-10-19</td>\n",
       "      <td>0.21</td>\n",
       "      <td>6</td>\n",
       "      <td>365</td>\n",
       "    </tr>\n",
       "    <tr>\n",
       "      <th>1</th>\n",
       "      <td>2595</td>\n",
       "      <td>skylit_midtown_castle</td>\n",
       "      <td>2845</td>\n",
       "      <td>jennifer</td>\n",
       "      <td>manhattan</td>\n",
       "      <td>midtown</td>\n",
       "      <td>40.75362</td>\n",
       "      <td>-73.98377</td>\n",
       "      <td>entire_home/apt</td>\n",
       "      <td>225</td>\n",
       "      <td>1</td>\n",
       "      <td>45</td>\n",
       "      <td>2019-05-21</td>\n",
       "      <td>0.38</td>\n",
       "      <td>2</td>\n",
       "      <td>355</td>\n",
       "    </tr>\n",
       "    <tr>\n",
       "      <th>2</th>\n",
       "      <td>3647</td>\n",
       "      <td>the_village_of_harlem....new_york_!</td>\n",
       "      <td>4632</td>\n",
       "      <td>elisabeth</td>\n",
       "      <td>manhattan</td>\n",
       "      <td>harlem</td>\n",
       "      <td>40.80902</td>\n",
       "      <td>-73.94190</td>\n",
       "      <td>private_room</td>\n",
       "      <td>150</td>\n",
       "      <td>3</td>\n",
       "      <td>0</td>\n",
       "      <td>NaN</td>\n",
       "      <td>NaN</td>\n",
       "      <td>1</td>\n",
       "      <td>365</td>\n",
       "    </tr>\n",
       "    <tr>\n",
       "      <th>3</th>\n",
       "      <td>3831</td>\n",
       "      <td>cozy_entire_floor_of_brownstone</td>\n",
       "      <td>4869</td>\n",
       "      <td>lisaroxanne</td>\n",
       "      <td>brooklyn</td>\n",
       "      <td>clinton_hill</td>\n",
       "      <td>40.68514</td>\n",
       "      <td>-73.95976</td>\n",
       "      <td>entire_home/apt</td>\n",
       "      <td>89</td>\n",
       "      <td>1</td>\n",
       "      <td>270</td>\n",
       "      <td>2019-07-05</td>\n",
       "      <td>4.64</td>\n",
       "      <td>1</td>\n",
       "      <td>194</td>\n",
       "    </tr>\n",
       "    <tr>\n",
       "      <th>4</th>\n",
       "      <td>5022</td>\n",
       "      <td>entire_apt:_spacious_studio/loft_by_central_park</td>\n",
       "      <td>7192</td>\n",
       "      <td>laura</td>\n",
       "      <td>manhattan</td>\n",
       "      <td>east_harlem</td>\n",
       "      <td>40.79851</td>\n",
       "      <td>-73.94399</td>\n",
       "      <td>entire_home/apt</td>\n",
       "      <td>80</td>\n",
       "      <td>10</td>\n",
       "      <td>9</td>\n",
       "      <td>2018-11-19</td>\n",
       "      <td>0.10</td>\n",
       "      <td>1</td>\n",
       "      <td>0</td>\n",
       "    </tr>\n",
       "  </tbody>\n",
       "</table>\n",
       "</div>"
      ],
      "text/plain": [
       "     id                                              name  host_id  \\\n",
       "0  2539                clean_&_quiet_apt_home_by_the_park     2787   \n",
       "1  2595                             skylit_midtown_castle     2845   \n",
       "2  3647               the_village_of_harlem....new_york_!     4632   \n",
       "3  3831                   cozy_entire_floor_of_brownstone     4869   \n",
       "4  5022  entire_apt:_spacious_studio/loft_by_central_park     7192   \n",
       "\n",
       "     host_name neighbourhood_group neighbourhood  latitude  longitude  \\\n",
       "0         john            brooklyn    kensington  40.64749  -73.97237   \n",
       "1     jennifer           manhattan       midtown  40.75362  -73.98377   \n",
       "2    elisabeth           manhattan        harlem  40.80902  -73.94190   \n",
       "3  lisaroxanne            brooklyn  clinton_hill  40.68514  -73.95976   \n",
       "4        laura           manhattan   east_harlem  40.79851  -73.94399   \n",
       "\n",
       "         room_type  price  minimum_nights  number_of_reviews last_review  \\\n",
       "0     private_room    149               1                  9  2018-10-19   \n",
       "1  entire_home/apt    225               1                 45  2019-05-21   \n",
       "2     private_room    150               3                  0         NaN   \n",
       "3  entire_home/apt     89               1                270  2019-07-05   \n",
       "4  entire_home/apt     80              10                  9  2018-11-19   \n",
       "\n",
       "   reviews_per_month  calculated_host_listings_count  availability_365  \n",
       "0               0.21                               6               365  \n",
       "1               0.38                               2               355  \n",
       "2                NaN                               1               365  \n",
       "3               4.64                               1               194  \n",
       "4               0.10                               1                 0  "
      ]
     },
     "execution_count": 6,
     "metadata": {},
     "output_type": "execute_result"
    }
   ],
   "source": [
    "df.head()"
   ]
  },
  {
   "cell_type": "code",
   "execution_count": 7,
   "id": "21099f5e",
   "metadata": {},
   "outputs": [
    {
     "data": {
      "text/plain": [
       "Index(['id', 'name', 'host_id', 'host_name', 'neighbourhood_group',\n",
       "       'neighbourhood', 'latitude', 'longitude', 'room_type', 'price',\n",
       "       'minimum_nights', 'number_of_reviews', 'last_review',\n",
       "       'reviews_per_month', 'calculated_host_listings_count',\n",
       "       'availability_365'],\n",
       "      dtype='object')"
      ]
     },
     "execution_count": 7,
     "metadata": {},
     "output_type": "execute_result"
    }
   ],
   "source": [
    "# Data Frames's columns\n",
    "df.columns"
   ]
  },
  {
   "cell_type": "code",
   "execution_count": 8,
   "id": "2adc6a00",
   "metadata": {},
   "outputs": [
    {
     "data": {
      "text/plain": [
       "id                                    0\n",
       "name                                 16\n",
       "host_id                               0\n",
       "host_name                            21\n",
       "neighbourhood_group                   0\n",
       "neighbourhood                         0\n",
       "latitude                              0\n",
       "longitude                             0\n",
       "room_type                             0\n",
       "price                                 0\n",
       "minimum_nights                        0\n",
       "number_of_reviews                     0\n",
       "last_review                       10052\n",
       "reviews_per_month                 10052\n",
       "calculated_host_listings_count        0\n",
       "availability_365                      0\n",
       "dtype: int64"
      ]
     },
     "execution_count": 8,
     "metadata": {},
     "output_type": "execute_result"
    }
   ],
   "source": [
    "# check for missing values\n",
    "df.isnull().sum()"
   ]
  },
  {
   "cell_type": "markdown",
   "id": "0f1f6f48",
   "metadata": {},
   "source": [
    "In the whole dataset, <b>name, host_name, last_review and reviews_per_month</b> have missing values"
   ]
  },
  {
   "cell_type": "code",
   "execution_count": 9,
   "id": "194f5eee",
   "metadata": {},
   "outputs": [
    {
     "data": {
      "text/html": [
       "<div>\n",
       "<style scoped>\n",
       "    .dataframe tbody tr th:only-of-type {\n",
       "        vertical-align: middle;\n",
       "    }\n",
       "\n",
       "    .dataframe tbody tr th {\n",
       "        vertical-align: top;\n",
       "    }\n",
       "\n",
       "    .dataframe thead th {\n",
       "        text-align: right;\n",
       "    }\n",
       "</style>\n",
       "<table border=\"1\" class=\"dataframe\">\n",
       "  <thead>\n",
       "    <tr style=\"text-align: right;\">\n",
       "      <th></th>\n",
       "      <th>neighbourhood_group</th>\n",
       "      <th>room_type</th>\n",
       "      <th>latitude</th>\n",
       "      <th>longitude</th>\n",
       "      <th>price</th>\n",
       "      <th>minimum_nights</th>\n",
       "      <th>number_of_reviews</th>\n",
       "      <th>reviews_per_month</th>\n",
       "      <th>calculated_host_listings_count</th>\n",
       "      <th>availability_365</th>\n",
       "    </tr>\n",
       "  </thead>\n",
       "  <tbody>\n",
       "    <tr>\n",
       "      <th>0</th>\n",
       "      <td>brooklyn</td>\n",
       "      <td>private_room</td>\n",
       "      <td>40.64749</td>\n",
       "      <td>-73.97237</td>\n",
       "      <td>149</td>\n",
       "      <td>1</td>\n",
       "      <td>9</td>\n",
       "      <td>0.21</td>\n",
       "      <td>6</td>\n",
       "      <td>365</td>\n",
       "    </tr>\n",
       "    <tr>\n",
       "      <th>1</th>\n",
       "      <td>manhattan</td>\n",
       "      <td>entire_home/apt</td>\n",
       "      <td>40.75362</td>\n",
       "      <td>-73.98377</td>\n",
       "      <td>225</td>\n",
       "      <td>1</td>\n",
       "      <td>45</td>\n",
       "      <td>0.38</td>\n",
       "      <td>2</td>\n",
       "      <td>355</td>\n",
       "    </tr>\n",
       "    <tr>\n",
       "      <th>2</th>\n",
       "      <td>manhattan</td>\n",
       "      <td>private_room</td>\n",
       "      <td>40.80902</td>\n",
       "      <td>-73.94190</td>\n",
       "      <td>150</td>\n",
       "      <td>3</td>\n",
       "      <td>0</td>\n",
       "      <td>NaN</td>\n",
       "      <td>1</td>\n",
       "      <td>365</td>\n",
       "    </tr>\n",
       "    <tr>\n",
       "      <th>3</th>\n",
       "      <td>brooklyn</td>\n",
       "      <td>entire_home/apt</td>\n",
       "      <td>40.68514</td>\n",
       "      <td>-73.95976</td>\n",
       "      <td>89</td>\n",
       "      <td>1</td>\n",
       "      <td>270</td>\n",
       "      <td>4.64</td>\n",
       "      <td>1</td>\n",
       "      <td>194</td>\n",
       "    </tr>\n",
       "    <tr>\n",
       "      <th>4</th>\n",
       "      <td>manhattan</td>\n",
       "      <td>entire_home/apt</td>\n",
       "      <td>40.79851</td>\n",
       "      <td>-73.94399</td>\n",
       "      <td>80</td>\n",
       "      <td>10</td>\n",
       "      <td>9</td>\n",
       "      <td>0.10</td>\n",
       "      <td>1</td>\n",
       "      <td>0</td>\n",
       "    </tr>\n",
       "  </tbody>\n",
       "</table>\n",
       "</div>"
      ],
      "text/plain": [
       "  neighbourhood_group        room_type  latitude  longitude  price  \\\n",
       "0            brooklyn     private_room  40.64749  -73.97237    149   \n",
       "1           manhattan  entire_home/apt  40.75362  -73.98377    225   \n",
       "2           manhattan     private_room  40.80902  -73.94190    150   \n",
       "3            brooklyn  entire_home/apt  40.68514  -73.95976     89   \n",
       "4           manhattan  entire_home/apt  40.79851  -73.94399     80   \n",
       "\n",
       "   minimum_nights  number_of_reviews  reviews_per_month  \\\n",
       "0               1                  9               0.21   \n",
       "1               1                 45               0.38   \n",
       "2               3                  0                NaN   \n",
       "3               1                270               4.64   \n",
       "4              10                  9               0.10   \n",
       "\n",
       "   calculated_host_listings_count  availability_365  \n",
       "0                               6               365  \n",
       "1                               2               355  \n",
       "2                               1               365  \n",
       "3                               1               194  \n",
       "4                               1                 0  "
      ]
     },
     "execution_count": 9,
     "metadata": {},
     "output_type": "execute_result"
    }
   ],
   "source": [
    "# Extract a subset\n",
    "df_subset= df[['neighbourhood_group',\n",
    "'room_type',\n",
    "'latitude',\n",
    "'longitude',\n",
    "'price',\n",
    "'minimum_nights',\n",
    "'number_of_reviews',\n",
    "'reviews_per_month',\n",
    "'calculated_host_listings_count',\n",
    "'availability_365']]\n",
    "df_subset.head()"
   ]
  },
  {
   "cell_type": "code",
   "execution_count": 10,
   "id": "ab6decb8",
   "metadata": {},
   "outputs": [
    {
     "data": {
      "text/plain": [
       "152.7206871868289"
      ]
     },
     "execution_count": 10,
     "metadata": {},
     "output_type": "execute_result"
    }
   ],
   "source": [
    "# calculate mean of price\n",
    "mean = df_subset[\"price\"].mean()\n",
    "mean"
   ]
  },
  {
   "cell_type": "markdown",
   "id": "10a942e5",
   "metadata": {},
   "source": [
    "### Make Price Binary Classes"
   ]
  },
  {
   "cell_type": "markdown",
   "id": "75840f7d",
   "metadata": {},
   "source": [
    "Convert price from numerical values to binary values"
   ]
  },
  {
   "cell_type": "code",
   "execution_count": 11,
   "id": "d13bc4ed",
   "metadata": {},
   "outputs": [
    {
     "name": "stderr",
     "output_type": "stream",
     "text": [
      "C:\\Users\\ojare\\AppData\\Local\\Temp\\ipykernel_13320\\1183059752.py:2: SettingWithCopyWarning: \n",
      "A value is trying to be set on a copy of a slice from a DataFrame.\n",
      "Try using .loc[row_indexer,col_indexer] = value instead\n",
      "\n",
      "See the caveats in the documentation: https://pandas.pydata.org/pandas-docs/stable/user_guide/indexing.html#returning-a-view-versus-a-copy\n",
      "  df_subset[\"above_average\"] = np.where(df_subset[\"price\"] >= mean, 1,0)\n"
     ]
    }
   ],
   "source": [
    "# create two classes based on price\n",
    "df_subset[\"above_average\"] = np.where(df_subset[\"price\"] >= mean, 1,0)"
   ]
  },
  {
   "cell_type": "code",
   "execution_count": 12,
   "id": "bea50c73",
   "metadata": {},
   "outputs": [
    {
     "data": {
      "text/plain": [
       "0    0\n",
       "1    1\n",
       "2    0\n",
       "3    0\n",
       "4    0\n",
       "Name: above_average, dtype: int32"
      ]
     },
     "execution_count": 12,
     "metadata": {},
     "output_type": "execute_result"
    }
   ],
   "source": [
    "# above_average feature values\n",
    "df_subset[\"above_average\"].head()"
   ]
  },
  {
   "cell_type": "code",
   "execution_count": 13,
   "id": "bce46de2",
   "metadata": {},
   "outputs": [
    {
     "data": {
      "text/html": [
       "<div>\n",
       "<style scoped>\n",
       "    .dataframe tbody tr th:only-of-type {\n",
       "        vertical-align: middle;\n",
       "    }\n",
       "\n",
       "    .dataframe tbody tr th {\n",
       "        vertical-align: top;\n",
       "    }\n",
       "\n",
       "    .dataframe thead th {\n",
       "        text-align: right;\n",
       "    }\n",
       "</style>\n",
       "<table border=\"1\" class=\"dataframe\">\n",
       "  <thead>\n",
       "    <tr style=\"text-align: right;\">\n",
       "      <th></th>\n",
       "      <th>neighbourhood_group</th>\n",
       "      <th>room_type</th>\n",
       "      <th>latitude</th>\n",
       "      <th>longitude</th>\n",
       "      <th>price</th>\n",
       "      <th>minimum_nights</th>\n",
       "      <th>number_of_reviews</th>\n",
       "      <th>reviews_per_month</th>\n",
       "      <th>calculated_host_listings_count</th>\n",
       "      <th>availability_365</th>\n",
       "      <th>above_average</th>\n",
       "    </tr>\n",
       "  </thead>\n",
       "  <tbody>\n",
       "    <tr>\n",
       "      <th>0</th>\n",
       "      <td>brooklyn</td>\n",
       "      <td>private_room</td>\n",
       "      <td>40.64749</td>\n",
       "      <td>-73.97237</td>\n",
       "      <td>149</td>\n",
       "      <td>1</td>\n",
       "      <td>9</td>\n",
       "      <td>0.21</td>\n",
       "      <td>6</td>\n",
       "      <td>365</td>\n",
       "      <td>0</td>\n",
       "    </tr>\n",
       "    <tr>\n",
       "      <th>1</th>\n",
       "      <td>manhattan</td>\n",
       "      <td>entire_home/apt</td>\n",
       "      <td>40.75362</td>\n",
       "      <td>-73.98377</td>\n",
       "      <td>225</td>\n",
       "      <td>1</td>\n",
       "      <td>45</td>\n",
       "      <td>0.38</td>\n",
       "      <td>2</td>\n",
       "      <td>355</td>\n",
       "      <td>1</td>\n",
       "    </tr>\n",
       "    <tr>\n",
       "      <th>2</th>\n",
       "      <td>manhattan</td>\n",
       "      <td>private_room</td>\n",
       "      <td>40.80902</td>\n",
       "      <td>-73.94190</td>\n",
       "      <td>150</td>\n",
       "      <td>3</td>\n",
       "      <td>0</td>\n",
       "      <td>NaN</td>\n",
       "      <td>1</td>\n",
       "      <td>365</td>\n",
       "      <td>0</td>\n",
       "    </tr>\n",
       "    <tr>\n",
       "      <th>3</th>\n",
       "      <td>brooklyn</td>\n",
       "      <td>entire_home/apt</td>\n",
       "      <td>40.68514</td>\n",
       "      <td>-73.95976</td>\n",
       "      <td>89</td>\n",
       "      <td>1</td>\n",
       "      <td>270</td>\n",
       "      <td>4.64</td>\n",
       "      <td>1</td>\n",
       "      <td>194</td>\n",
       "      <td>0</td>\n",
       "    </tr>\n",
       "    <tr>\n",
       "      <th>4</th>\n",
       "      <td>manhattan</td>\n",
       "      <td>entire_home/apt</td>\n",
       "      <td>40.79851</td>\n",
       "      <td>-73.94399</td>\n",
       "      <td>80</td>\n",
       "      <td>10</td>\n",
       "      <td>9</td>\n",
       "      <td>0.10</td>\n",
       "      <td>1</td>\n",
       "      <td>0</td>\n",
       "      <td>0</td>\n",
       "    </tr>\n",
       "  </tbody>\n",
       "</table>\n",
       "</div>"
      ],
      "text/plain": [
       "  neighbourhood_group        room_type  latitude  longitude  price  \\\n",
       "0            brooklyn     private_room  40.64749  -73.97237    149   \n",
       "1           manhattan  entire_home/apt  40.75362  -73.98377    225   \n",
       "2           manhattan     private_room  40.80902  -73.94190    150   \n",
       "3            brooklyn  entire_home/apt  40.68514  -73.95976     89   \n",
       "4           manhattan  entire_home/apt  40.79851  -73.94399     80   \n",
       "\n",
       "   minimum_nights  number_of_reviews  reviews_per_month  \\\n",
       "0               1                  9               0.21   \n",
       "1               1                 45               0.38   \n",
       "2               3                  0                NaN   \n",
       "3               1                270               4.64   \n",
       "4              10                  9               0.10   \n",
       "\n",
       "   calculated_host_listings_count  availability_365  above_average  \n",
       "0                               6               365              0  \n",
       "1                               2               355              1  \n",
       "2                               1               365              0  \n",
       "3                               1               194              0  \n",
       "4                               1                 0              0  "
      ]
     },
     "execution_count": 13,
     "metadata": {},
     "output_type": "execute_result"
    }
   ],
   "source": [
    "# confirm that above average is in the dataframe\n",
    "df_subset.head()"
   ]
  },
  {
   "cell_type": "code",
   "execution_count": 14,
   "id": "27b29a23",
   "metadata": {},
   "outputs": [],
   "source": [
    "# drop the price column\n",
    "df_subset = df_subset.drop(\"price\", axis=1)"
   ]
  },
  {
   "cell_type": "code",
   "execution_count": 18,
   "id": "970b9fd8",
   "metadata": {},
   "outputs": [
    {
     "data": {
      "text/plain": [
       "manhattan        21661\n",
       "brooklyn         20104\n",
       "queens            5666\n",
       "bronx             1091\n",
       "staten_island      373\n",
       "Name: neighbourhood_group, dtype: int64"
      ]
     },
     "execution_count": 18,
     "metadata": {},
     "output_type": "execute_result"
    }
   ],
   "source": [
    "# check for a neighbohood group that is more frequent than others\n",
    "df_subset.neighbourhood_group.value_counts()"
   ]
  },
  {
   "cell_type": "code",
   "execution_count": 19,
   "id": "babfe379",
   "metadata": {},
   "outputs": [
    {
     "data": {
      "text/plain": [
       "0    manhattan\n",
       "Name: neighbourhood_group, dtype: object"
      ]
     },
     "execution_count": 19,
     "metadata": {},
     "output_type": "execute_result"
    }
   ],
   "source": [
    "# you can also use the mode() method to check for a more frequent neighborhood group than others\n",
    "df_subset.neighbourhood_group.mode()"
   ]
  },
  {
   "cell_type": "markdown",
   "id": "0322b222",
   "metadata": {},
   "source": [
    "The most frequent neighbourhood group is <b>manhattan</b>"
   ]
  },
  {
   "cell_type": "markdown",
   "id": "84899154",
   "metadata": {},
   "source": [
    "## Setting up the Validation Framework"
   ]
  },
  {
   "cell_type": "code",
   "execution_count": 20,
   "id": "1d928997",
   "metadata": {},
   "outputs": [],
   "source": [
    "# import train_test_split\n",
    "from sklearn.model_selection import train_test_split"
   ]
  },
  {
   "cell_type": "code",
   "execution_count": 21,
   "id": "a65421e4",
   "metadata": {},
   "outputs": [],
   "source": [
    "# split the dataframe into full train and test sets\n",
    "df_full_train, df_test = train_test_split(df_subset, test_size=0.2, random_state=42)"
   ]
  },
  {
   "cell_type": "code",
   "execution_count": 22,
   "id": "65d6825b",
   "metadata": {},
   "outputs": [
    {
     "data": {
      "text/plain": [
       "(39116, 9779)"
      ]
     },
     "execution_count": 22,
     "metadata": {},
     "output_type": "execute_result"
    }
   ],
   "source": [
    "# check the lengths of both full_train and test sets\n",
    "len(df_full_train), len(df_test)"
   ]
  },
  {
   "cell_type": "code",
   "execution_count": 23,
   "id": "12356907",
   "metadata": {},
   "outputs": [
    {
     "name": "stdout",
     "output_type": "stream",
     "text": [
      "Number fo columns of full train set:  10\n",
      "Number fo columns of test set:  10\n"
     ]
    }
   ],
   "source": [
    "# check the number of columns of of each set\n",
    "print(\"Number fo columns of full train set: \", df_full_train.shape[1])\n",
    "print(\"Number fo columns of test set: \", df_test.shape[1])"
   ]
  },
  {
   "cell_type": "code",
   "execution_count": 24,
   "id": "41be4964",
   "metadata": {},
   "outputs": [],
   "source": [
    "#now split the full train into tran and validation sets\n",
    "df_train, df_val = train_test_split(df_full_train, test_size=0.25, random_state=42)"
   ]
  },
  {
   "cell_type": "code",
   "execution_count": 25,
   "id": "1ffbd006",
   "metadata": {},
   "outputs": [
    {
     "data": {
      "text/plain": [
       "(29337, 9779, 9779)"
      ]
     },
     "execution_count": 25,
     "metadata": {},
     "output_type": "execute_result"
    }
   ],
   "source": [
    "# check the lengths of train, validation and test sets\n",
    "len(df_train), len(df_val), len(df_test)"
   ]
  },
  {
   "cell_type": "code",
   "execution_count": 26,
   "id": "7e66671a",
   "metadata": {},
   "outputs": [
    {
     "name": "stdout",
     "output_type": "stream",
     "text": [
      "Number fo columns of train set:  10\n",
      "Number fo columns of validation set:  10\n",
      "Number fo columns of test set:  10\n"
     ]
    }
   ],
   "source": [
    "# check the number of columns of train, validation and test sets\n",
    "print(\"Number fo columns of train set: \", df_train.shape[1])\n",
    "print(\"Number fo columns of validation set: \", df_val.shape[1])\n",
    "print(\"Number fo columns of test set: \", df_test.shape[1])"
   ]
  },
  {
   "cell_type": "code",
   "execution_count": 27,
   "id": "1a34e5a2",
   "metadata": {},
   "outputs": [],
   "source": [
    "# reset index of all sets\n",
    "df_train = df_train.reset_index(drop=True)\n",
    "df_val = df_val.reset_index(drop=True)\n",
    "df_test = df_test.reset_index(drop=True)"
   ]
  },
  {
   "cell_type": "code",
   "execution_count": 28,
   "id": "f0cabc1e",
   "metadata": {},
   "outputs": [],
   "source": [
    "# create y variables from all sets\n",
    "y_train = df_train.above_average.values\n",
    "y_val = df_val.above_average.values\n",
    "y_test = df_test.above_average.values"
   ]
  },
  {
   "cell_type": "code",
   "execution_count": 29,
   "id": "41f71136",
   "metadata": {},
   "outputs": [],
   "source": [
    "# delete the target variable from all sets so that it is not accidentally used as X variable\n",
    "del df_train[\"above_average\"]\n",
    "del df_val[\"above_average\"]\n",
    "del df_test[\"above_average\"]"
   ]
  },
  {
   "cell_type": "markdown",
   "id": "61cc55f7",
   "metadata": {},
   "source": [
    "## Exploratory Data Analysis"
   ]
  },
  {
   "cell_type": "markdown",
   "id": "36eee8f2",
   "metadata": {},
   "source": [
    "- Check for missing values\n",
    "- Look at the target variable(price)\n",
    "- Look at numerical and categorical variables"
   ]
  },
  {
   "cell_type": "code",
   "execution_count": 30,
   "id": "28a123b1",
   "metadata": {},
   "outputs": [],
   "source": [
    "# reset the index of the full dataset\n",
    "df_full_train = df_full_train.reset_index(drop=True)"
   ]
  },
  {
   "cell_type": "code",
   "execution_count": 31,
   "id": "41ba8612",
   "metadata": {},
   "outputs": [
    {
     "data": {
      "text/plain": [
       "neighbourhood_group                  0\n",
       "room_type                            0\n",
       "latitude                             0\n",
       "longitude                            0\n",
       "minimum_nights                       0\n",
       "number_of_reviews                    0\n",
       "reviews_per_month                 8106\n",
       "calculated_host_listings_count       0\n",
       "availability_365                     0\n",
       "above_average                        0\n",
       "dtype: int64"
      ]
     },
     "execution_count": 31,
     "metadata": {},
     "output_type": "execute_result"
    }
   ],
   "source": [
    "# check for null values in the dataset\n",
    "df_full_train.isnull().sum()"
   ]
  },
  {
   "cell_type": "markdown",
   "id": "d490d7b0",
   "metadata": {},
   "source": [
    "In this subset, only <b>reviews_per_month</b> have null values"
   ]
  },
  {
   "cell_type": "code",
   "execution_count": 33,
   "id": "f8530e55",
   "metadata": {},
   "outputs": [
    {
     "data": {
      "text/plain": [
       "neighbourhood_group                object\n",
       "room_type                          object\n",
       "latitude                          float64\n",
       "longitude                         float64\n",
       "minimum_nights                      int64\n",
       "number_of_reviews                   int64\n",
       "reviews_per_month                 float64\n",
       "calculated_host_listings_count      int64\n",
       "availability_365                    int64\n",
       "above_average                       int32\n",
       "dtype: object"
      ]
     },
     "execution_count": 33,
     "metadata": {},
     "output_type": "execute_result"
    }
   ],
   "source": [
    "# check for the features' dtypes\n",
    "df_full_train.dtypes"
   ]
  },
  {
   "cell_type": "code",
   "execution_count": 34,
   "id": "8420e754",
   "metadata": {},
   "outputs": [
    {
     "data": {
      "text/plain": [
       "Index(['neighbourhood_group', 'room_type', 'latitude', 'longitude',\n",
       "       'minimum_nights', 'number_of_reviews', 'reviews_per_month',\n",
       "       'calculated_host_listings_count', 'availability_365', 'above_average'],\n",
       "      dtype='object')"
      ]
     },
     "execution_count": 34,
     "metadata": {},
     "output_type": "execute_result"
    }
   ],
   "source": [
    "df_full_train.columns"
   ]
  },
  {
   "cell_type": "code",
   "execution_count": 35,
   "id": "15d209db",
   "metadata": {},
   "outputs": [],
   "source": [
    "# extract numerical features\n",
    "numerical = ['latitude', 'longitude', 'minimum_nights', 'number_of_reviews', 'reviews_per_month', 'calculated_host_listings_count',\n",
    "       'availability_365']"
   ]
  },
  {
   "cell_type": "code",
   "execution_count": 36,
   "id": "543a6ef6",
   "metadata": {},
   "outputs": [],
   "source": [
    "# extract categorical features\n",
    "categorical = [ 'neighbourhood_group', 'room_type']"
   ]
  },
  {
   "cell_type": "code",
   "execution_count": 37,
   "id": "a1a73d62",
   "metadata": {},
   "outputs": [
    {
     "data": {
      "text/plain": [
       "neighbourhood_group    5\n",
       "room_type              3\n",
       "dtype: int64"
      ]
     },
     "execution_count": 37,
     "metadata": {},
     "output_type": "execute_result"
    }
   ],
   "source": [
    "# check the number of unique values per each categorical feature\n",
    "df_full_train[categorical].nunique()"
   ]
  },
  {
   "cell_type": "markdown",
   "id": "03e2fea4",
   "metadata": {},
   "source": [
    "## Feature Importance: Correlation Matrix"
   ]
  },
  {
   "cell_type": "markdown",
   "id": "ac937a8f",
   "metadata": {},
   "source": [
    "<b>Correlation</b> calculates feature importance for numerical variables with relation to the target variable <b>above_average</b>"
   ]
  },
  {
   "cell_type": "code",
   "execution_count": 39,
   "id": "99d3a84d",
   "metadata": {},
   "outputs": [
    {
     "data": {
      "text/html": [
       "<div>\n",
       "<style scoped>\n",
       "    .dataframe tbody tr th:only-of-type {\n",
       "        vertical-align: middle;\n",
       "    }\n",
       "\n",
       "    .dataframe tbody tr th {\n",
       "        vertical-align: top;\n",
       "    }\n",
       "\n",
       "    .dataframe thead th {\n",
       "        text-align: right;\n",
       "    }\n",
       "</style>\n",
       "<table border=\"1\" class=\"dataframe\">\n",
       "  <thead>\n",
       "    <tr style=\"text-align: right;\">\n",
       "      <th></th>\n",
       "      <th>latitude</th>\n",
       "      <th>longitude</th>\n",
       "      <th>minimum_nights</th>\n",
       "      <th>number_of_reviews</th>\n",
       "      <th>reviews_per_month</th>\n",
       "      <th>calculated_host_listings_count</th>\n",
       "      <th>availability_365</th>\n",
       "    </tr>\n",
       "  </thead>\n",
       "  <tbody>\n",
       "    <tr>\n",
       "      <th>0</th>\n",
       "      <td>40.71577</td>\n",
       "      <td>-73.95530</td>\n",
       "      <td>3</td>\n",
       "      <td>11</td>\n",
       "      <td>0.87</td>\n",
       "      <td>1</td>\n",
       "      <td>1</td>\n",
       "    </tr>\n",
       "    <tr>\n",
       "      <th>1</th>\n",
       "      <td>40.84917</td>\n",
       "      <td>-73.94048</td>\n",
       "      <td>2</td>\n",
       "      <td>2</td>\n",
       "      <td>0.16</td>\n",
       "      <td>1</td>\n",
       "      <td>0</td>\n",
       "    </tr>\n",
       "    <tr>\n",
       "      <th>2</th>\n",
       "      <td>40.68993</td>\n",
       "      <td>-73.95947</td>\n",
       "      <td>2</td>\n",
       "      <td>0</td>\n",
       "      <td>NaN</td>\n",
       "      <td>2</td>\n",
       "      <td>0</td>\n",
       "    </tr>\n",
       "    <tr>\n",
       "      <th>3</th>\n",
       "      <td>40.68427</td>\n",
       "      <td>-73.93118</td>\n",
       "      <td>3</td>\n",
       "      <td>87</td>\n",
       "      <td>4.91</td>\n",
       "      <td>1</td>\n",
       "      <td>267</td>\n",
       "    </tr>\n",
       "    <tr>\n",
       "      <th>4</th>\n",
       "      <td>40.74705</td>\n",
       "      <td>-73.89564</td>\n",
       "      <td>5</td>\n",
       "      <td>13</td>\n",
       "      <td>0.25</td>\n",
       "      <td>1</td>\n",
       "      <td>0</td>\n",
       "    </tr>\n",
       "  </tbody>\n",
       "</table>\n",
       "</div>"
      ],
      "text/plain": [
       "   latitude  longitude  minimum_nights  number_of_reviews  reviews_per_month  \\\n",
       "0  40.71577  -73.95530               3                 11               0.87   \n",
       "1  40.84917  -73.94048               2                  2               0.16   \n",
       "2  40.68993  -73.95947               2                  0                NaN   \n",
       "3  40.68427  -73.93118               3                 87               4.91   \n",
       "4  40.74705  -73.89564               5                 13               0.25   \n",
       "\n",
       "   calculated_host_listings_count  availability_365  \n",
       "0                               1                 1  \n",
       "1                               1                 0  \n",
       "2                               2                 0  \n",
       "3                               1               267  \n",
       "4                               1                 0  "
      ]
     },
     "execution_count": 39,
     "metadata": {},
     "output_type": "execute_result"
    }
   ],
   "source": [
    "# all numerical variables\n",
    "df_full_train[numerical].head()"
   ]
  },
  {
   "cell_type": "code",
   "execution_count": 40,
   "id": "a3944d97",
   "metadata": {},
   "outputs": [
    {
     "data": {
      "text/plain": [
       "latitude                          0.056349\n",
       "longitude                        -0.267426\n",
       "minimum_nights                    0.031670\n",
       "number_of_reviews                -0.054054\n",
       "reviews_per_month                -0.032818\n",
       "calculated_host_listings_count    0.171498\n",
       "availability_365                  0.102663\n",
       "dtype: float64"
      ]
     },
     "execution_count": 40,
     "metadata": {},
     "output_type": "execute_result"
    }
   ],
   "source": [
    "# check for correlation of the numerical variables with the target variable\n",
    "df_full_train[numerical].corrwith(df_full_train.above_average)"
   ]
  },
  {
   "cell_type": "code",
   "execution_count": 44,
   "id": "3f8c22ad",
   "metadata": {},
   "outputs": [
    {
     "data": {
      "text/html": [
       "<div>\n",
       "<style scoped>\n",
       "    .dataframe tbody tr th:only-of-type {\n",
       "        vertical-align: middle;\n",
       "    }\n",
       "\n",
       "    .dataframe tbody tr th {\n",
       "        vertical-align: top;\n",
       "    }\n",
       "\n",
       "    .dataframe thead th {\n",
       "        text-align: right;\n",
       "    }\n",
       "</style>\n",
       "<table border=\"1\" class=\"dataframe\">\n",
       "  <thead>\n",
       "    <tr style=\"text-align: right;\">\n",
       "      <th></th>\n",
       "      <th>latitude</th>\n",
       "      <th>longitude</th>\n",
       "      <th>minimum_nights</th>\n",
       "      <th>number_of_reviews</th>\n",
       "      <th>reviews_per_month</th>\n",
       "      <th>calculated_host_listings_count</th>\n",
       "      <th>availability_365</th>\n",
       "    </tr>\n",
       "  </thead>\n",
       "  <tbody>\n",
       "    <tr>\n",
       "      <th>latitude</th>\n",
       "      <td>1.000000</td>\n",
       "      <td>0.080704</td>\n",
       "      <td>0.025497</td>\n",
       "      <td>-0.011836</td>\n",
       "      <td>-0.004397</td>\n",
       "      <td>0.020299</td>\n",
       "      <td>-0.008341</td>\n",
       "    </tr>\n",
       "    <tr>\n",
       "      <th>longitude</th>\n",
       "      <td>0.080704</td>\n",
       "      <td>1.000000</td>\n",
       "      <td>-0.063498</td>\n",
       "      <td>0.057570</td>\n",
       "      <td>0.141220</td>\n",
       "      <td>-0.115289</td>\n",
       "      <td>0.082994</td>\n",
       "    </tr>\n",
       "    <tr>\n",
       "      <th>minimum_nights</th>\n",
       "      <td>0.025497</td>\n",
       "      <td>-0.063498</td>\n",
       "      <td>1.000000</td>\n",
       "      <td>-0.077860</td>\n",
       "      <td>-0.116444</td>\n",
       "      <td>0.121748</td>\n",
       "      <td>0.140596</td>\n",
       "    </tr>\n",
       "    <tr>\n",
       "      <th>number_of_reviews</th>\n",
       "      <td>-0.011836</td>\n",
       "      <td>0.057570</td>\n",
       "      <td>-0.077860</td>\n",
       "      <td>1.000000</td>\n",
       "      <td>0.544277</td>\n",
       "      <td>-0.072603</td>\n",
       "      <td>0.175428</td>\n",
       "    </tr>\n",
       "    <tr>\n",
       "      <th>reviews_per_month</th>\n",
       "      <td>-0.004397</td>\n",
       "      <td>0.141220</td>\n",
       "      <td>-0.116444</td>\n",
       "      <td>0.544277</td>\n",
       "      <td>1.000000</td>\n",
       "      <td>-0.008412</td>\n",
       "      <td>0.188701</td>\n",
       "    </tr>\n",
       "    <tr>\n",
       "      <th>calculated_host_listings_count</th>\n",
       "      <td>0.020299</td>\n",
       "      <td>-0.115289</td>\n",
       "      <td>0.121748</td>\n",
       "      <td>-0.072603</td>\n",
       "      <td>-0.008412</td>\n",
       "      <td>1.000000</td>\n",
       "      <td>0.223328</td>\n",
       "    </tr>\n",
       "    <tr>\n",
       "      <th>availability_365</th>\n",
       "      <td>-0.008341</td>\n",
       "      <td>0.082994</td>\n",
       "      <td>0.140596</td>\n",
       "      <td>0.175428</td>\n",
       "      <td>0.188701</td>\n",
       "      <td>0.223328</td>\n",
       "      <td>1.000000</td>\n",
       "    </tr>\n",
       "  </tbody>\n",
       "</table>\n",
       "</div>"
      ],
      "text/plain": [
       "                                latitude  longitude  minimum_nights  \\\n",
       "latitude                        1.000000   0.080704        0.025497   \n",
       "longitude                       0.080704   1.000000       -0.063498   \n",
       "minimum_nights                  0.025497  -0.063498        1.000000   \n",
       "number_of_reviews              -0.011836   0.057570       -0.077860   \n",
       "reviews_per_month              -0.004397   0.141220       -0.116444   \n",
       "calculated_host_listings_count  0.020299  -0.115289        0.121748   \n",
       "availability_365               -0.008341   0.082994        0.140596   \n",
       "\n",
       "                                number_of_reviews  reviews_per_month  \\\n",
       "latitude                                -0.011836          -0.004397   \n",
       "longitude                                0.057570           0.141220   \n",
       "minimum_nights                          -0.077860          -0.116444   \n",
       "number_of_reviews                        1.000000           0.544277   \n",
       "reviews_per_month                        0.544277           1.000000   \n",
       "calculated_host_listings_count          -0.072603          -0.008412   \n",
       "availability_365                         0.175428           0.188701   \n",
       "\n",
       "                                calculated_host_listings_count  \\\n",
       "latitude                                              0.020299   \n",
       "longitude                                            -0.115289   \n",
       "minimum_nights                                        0.121748   \n",
       "number_of_reviews                                    -0.072603   \n",
       "reviews_per_month                                    -0.008412   \n",
       "calculated_host_listings_count                        1.000000   \n",
       "availability_365                                      0.223328   \n",
       "\n",
       "                                availability_365  \n",
       "latitude                               -0.008341  \n",
       "longitude                               0.082994  \n",
       "minimum_nights                          0.140596  \n",
       "number_of_reviews                       0.175428  \n",
       "reviews_per_month                       0.188701  \n",
       "calculated_host_listings_count          0.223328  \n",
       "availability_365                        1.000000  "
      ]
     },
     "execution_count": 44,
     "metadata": {},
     "output_type": "execute_result"
    }
   ],
   "source": [
    "# calculate the correlation of the numerical features\n",
    "df_full_train[numerical].corr()"
   ]
  },
  {
   "cell_type": "markdown",
   "id": "143ac36c",
   "metadata": {},
   "source": [
    "In the correlation results above, availability_365, calculated_host_listings_count, minimum_nights and latitude are positive meaning that the bigger they are, the more the price                    "
   ]
  },
  {
   "cell_type": "code",
   "execution_count": 45,
   "id": "6638e3c9",
   "metadata": {},
   "outputs": [],
   "source": [
    "# import seaborn\n",
    "import seaborn as sns"
   ]
  },
  {
   "cell_type": "code",
   "execution_count": 46,
   "id": "6d765a99",
   "metadata": {},
   "outputs": [
    {
     "data": {
      "image/png": "[encoded data removed]",
      "text/plain": [
       "<Figure size 1080x720 with 2 Axes>"
      ]
     },
     "metadata": {
      "needs_background": "light"
     },
     "output_type": "display_data"
    }
   ],
   "source": [
    "plt.figure(figsize=(15,10))\n",
    "sns.heatmap(df_full_train[numerical].corr(), annot=True, linewidths=.5, cmap=\"Blues\")\n",
    "plt.title(\"Heatmap showing correlation between numerical data\")\n",
    "plt.show()"
   ]
  },
  {
   "cell_type": "code",
   "execution_count": 47,
   "id": "c1264534",
   "metadata": {},
   "outputs": [
    {
     "data": {
      "text/plain": [
       "latitude                        latitude                          1.000000\n",
       "longitude                       longitude                         1.000000\n",
       "calculated_host_listings_count  calculated_host_listings_count    1.000000\n",
       "reviews_per_month               reviews_per_month                 1.000000\n",
       "minimum_nights                  minimum_nights                    1.000000\n",
       "number_of_reviews               number_of_reviews                 1.000000\n",
       "availability_365                availability_365                  1.000000\n",
       "number_of_reviews               reviews_per_month                 0.544277\n",
       "reviews_per_month               number_of_reviews                 0.544277\n",
       "availability_365                calculated_host_listings_count    0.223328\n",
       "calculated_host_listings_count  availability_365                  0.223328\n",
       "availability_365                reviews_per_month                 0.188701\n",
       "reviews_per_month               availability_365                  0.188701\n",
       "availability_365                number_of_reviews                 0.175428\n",
       "number_of_reviews               availability_365                  0.175428\n",
       "reviews_per_month               longitude                         0.141220\n",
       "longitude                       reviews_per_month                 0.141220\n",
       "minimum_nights                  availability_365                  0.140596\n",
       "availability_365                minimum_nights                    0.140596\n",
       "minimum_nights                  calculated_host_listings_count    0.121748\n",
       "calculated_host_listings_count  minimum_nights                    0.121748\n",
       "longitude                       availability_365                  0.082994\n",
       "availability_365                longitude                         0.082994\n",
       "latitude                        longitude                         0.080704\n",
       "longitude                       latitude                          0.080704\n",
       "                                number_of_reviews                 0.057570\n",
       "number_of_reviews               longitude                         0.057570\n",
       "latitude                        minimum_nights                    0.025497\n",
       "minimum_nights                  latitude                          0.025497\n",
       "calculated_host_listings_count  latitude                          0.020299\n",
       "latitude                        calculated_host_listings_count    0.020299\n",
       "reviews_per_month               latitude                         -0.004397\n",
       "latitude                        reviews_per_month                -0.004397\n",
       "                                availability_365                 -0.008341\n",
       "availability_365                latitude                         -0.008341\n",
       "reviews_per_month               calculated_host_listings_count   -0.008412\n",
       "calculated_host_listings_count  reviews_per_month                -0.008412\n",
       "latitude                        number_of_reviews                -0.011836\n",
       "number_of_reviews               latitude                         -0.011836\n",
       "longitude                       minimum_nights                   -0.063498\n",
       "minimum_nights                  longitude                        -0.063498\n",
       "calculated_host_listings_count  number_of_reviews                -0.072603\n",
       "number_of_reviews               calculated_host_listings_count   -0.072603\n",
       "                                minimum_nights                   -0.077860\n",
       "minimum_nights                  number_of_reviews                -0.077860\n",
       "calculated_host_listings_count  longitude                        -0.115289\n",
       "longitude                       calculated_host_listings_count   -0.115289\n",
       "reviews_per_month               minimum_nights                   -0.116444\n",
       "minimum_nights                  reviews_per_month                -0.116444\n",
       "dtype: float64"
      ]
     },
     "execution_count": 47,
     "metadata": {},
     "output_type": "execute_result"
    }
   ],
   "source": [
    "df_full_train[numerical].corr().unstack().sort_values(ascending = False)"
   ]
  },
  {
   "cell_type": "markdown",
   "id": "b91fc80e",
   "metadata": {},
   "source": [
    "number_of_reviews and reviews_per_month are the highly correlated features in the dataframe"
   ]
  },
  {
   "cell_type": "markdown",
   "id": "bf4de778",
   "metadata": {},
   "source": [
    "## Feature Importance: Mutual Information"
   ]
  },
  {
   "cell_type": "code",
   "execution_count": 49,
   "id": "1bdebf39",
   "metadata": {},
   "outputs": [],
   "source": [
    "# import mutual_info_score library for checking mutual information and score of different features\n",
    "from sklearn.metrics import mutual_info_score"
   ]
  },
  {
   "cell_type": "code",
   "execution_count": 50,
   "id": "2185211f",
   "metadata": {},
   "outputs": [],
   "source": [
    "# create a function to apply mutual_info_score to all categorical features\n",
    "def mutual_info_above_average_score(series):\n",
    "    return mutual_info_score(series, df_full_train.above_average)"
   ]
  },
  {
   "cell_type": "code",
   "execution_count": 51,
   "id": "bba848ad",
   "metadata": {},
   "outputs": [
    {
     "data": {
      "text/plain": [
       "room_type              0.14\n",
       "neighbourhood_group    0.05\n",
       "dtype: float64"
      ]
     },
     "execution_count": 51,
     "metadata": {},
     "output_type": "execute_result"
    }
   ],
   "source": [
    "# using apply() method to apply mutual_info_score to all categorical features\n",
    "# sort the results in descending order to show the most important first\n",
    "mi = df_full_train[categorical].apply(mutual_info_above_average_score).round(2)\n",
    "mi.sort_values(ascending=False)"
   ]
  },
  {
   "cell_type": "markdown",
   "id": "2b140513",
   "metadata": {},
   "source": [
    "room_type has the highest mutual information score"
   ]
  },
  {
   "cell_type": "markdown",
   "id": "fb6b0234",
   "metadata": {},
   "source": [
    "## One-hot encode Categorical Features"
   ]
  },
  {
   "cell_type": "markdown",
   "id": "69e04464",
   "metadata": {},
   "source": [
    "Use <b>Scikit learn</b>"
   ]
  },
  {
   "cell_type": "code",
   "execution_count": 52,
   "id": "b5d8c338",
   "metadata": {},
   "outputs": [],
   "source": [
    "# import DictVectorizer to use for one-hot encoding\n",
    "from sklearn.feature_extraction import DictVectorizer"
   ]
  },
  {
   "cell_type": "code",
   "execution_count": 54,
   "id": "9ac77bf5",
   "metadata": {},
   "outputs": [],
   "source": [
    "# convert all rows in train set to dictionary\n",
    "train_dicts = df_train[categorical + numerical].to_dict(orient=\"records\")"
   ]
  },
  {
   "cell_type": "code",
   "execution_count": 55,
   "id": "62e6dcbe",
   "metadata": {},
   "outputs": [],
   "source": [
    "# set sparse to false in DictVectorizer\n",
    "dv = DictVectorizer(sparse=False)"
   ]
  },
  {
   "cell_type": "code",
   "execution_count": 56,
   "id": "03d9b4d8",
   "metadata": {},
   "outputs": [
    {
     "data": {
      "text/plain": [
       "array([[ 50.     ,  13.     ,  40.7276 , ...,   1.     ,   0.     ,\n",
       "          0.     ],\n",
       "       [  7.     ,   1.     ,  40.70847, ...,   0.     ,   1.     ,\n",
       "          0.     ],\n",
       "       [  0.     ,   1.     ,  40.83149, ...,   1.     ,   0.     ,\n",
       "          0.     ],\n",
       "       ...,\n",
       "       [ 88.     ,   1.     ,  40.79994, ...,   0.     ,   1.     ,\n",
       "          0.     ],\n",
       "       [  0.     ,   1.     ,  40.69585, ...,   0.     ,   1.     ,\n",
       "          0.     ],\n",
       "       [281.     ,   2.     ,  40.64438, ...,   1.     ,   0.     ,\n",
       "          0.     ]])"
      ]
     },
     "execution_count": 56,
     "metadata": {},
     "output_type": "execute_result"
    }
   ],
   "source": [
    "# fit and transform train set\n",
    "X_train = dv.fit_transform(train_dicts)\n",
    "X_train"
   ]
  },
  {
   "cell_type": "code",
   "execution_count": 57,
   "id": "22e7b3c6",
   "metadata": {},
   "outputs": [],
   "source": [
    "# create validation dictionary\n",
    "val_dicts = df_val[categorical + numerical].to_dict(orient=\"records\")"
   ]
  },
  {
   "cell_type": "code",
   "execution_count": 58,
   "id": "50ac3e83",
   "metadata": {},
   "outputs": [
    {
     "data": {
      "text/plain": [
       "array([[ 52.     ,   1.     ,  40.70239, ...,   0.     ,   1.     ,\n",
       "          0.     ],\n",
       "       [343.     ,   2.     ,  40.68498, ...,   1.     ,   0.     ,\n",
       "          0.     ],\n",
       "       [260.     ,   1.     ,  40.66911, ...,   1.     ,   0.     ,\n",
       "          0.     ],\n",
       "       ...,\n",
       "       [  0.     ,   1.     ,  40.73058, ...,   0.     ,   1.     ,\n",
       "          0.     ],\n",
       "       [  0.     ,   1.     ,  40.68858, ...,   0.     ,   1.     ,\n",
       "          0.     ],\n",
       "       [  0.     ,   1.     ,  40.81882, ...,   1.     ,   0.     ,\n",
       "          0.     ]])"
      ]
     },
     "execution_count": 58,
     "metadata": {},
     "output_type": "execute_result"
    }
   ],
   "source": [
    "# transform validation set\n",
    "X_val = dv.transform(val_dicts)\n",
    "X_val"
   ]
  },
  {
   "cell_type": "code",
   "execution_count": null,
   "id": "bc17ed31",
   "metadata": {},
   "outputs": [],
   "source": []
  }
 ],
 "metadata": {
  "kernelspec": {
   "display_name": "Python 3 (ipykernel)",
   "language": "python",
   "name": "python3"
  },
  "language_info": {
   "codemirror_mode": {
    "name": "ipython",
    "version": 3
   },
   "file_extension": ".py",
   "mimetype": "text/x-python",
   "name": "python",
   "nbconvert_exporter": "python",
   "pygments_lexer": "ipython3",
   "version": "3.9.12"
  }
 },
 "nbformat": 4,
 "nbformat_minor": 5
}
