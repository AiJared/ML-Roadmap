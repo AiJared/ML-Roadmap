{
 "cells": [
  {
   "cell_type": "code",
   "execution_count": 16,
   "id": "09352ae5",
   "metadata": {},
   "outputs": [],
   "source": [
    "# import libraries\n",
    "import pandas as pd\n",
    "import numpy as np"
   ]
  },
  {
   "cell_type": "code",
   "execution_count": 17,
   "id": "ad29f959",
   "metadata": {},
   "outputs": [],
   "source": [
    "# load dataset\n",
    "dataset = pd.read_csv(\"AB_NYC_2019.csv\")"
   ]
  },
  {
   "cell_type": "markdown",
   "id": "c8fa4c75",
   "metadata": {},
   "source": [
    "## Data Preparation"
   ]
  },
  {
   "cell_type": "code",
   "execution_count": 8,
   "id": "dc3373ac",
   "metadata": {},
   "outputs": [
    {
     "data": {
      "text/html": [
       "<div>\n",
       "<style scoped>\n",
       "    .dataframe tbody tr th:only-of-type {\n",
       "        vertical-align: middle;\n",
       "    }\n",
       "\n",
       "    .dataframe tbody tr th {\n",
       "        vertical-align: top;\n",
       "    }\n",
       "\n",
       "    .dataframe thead th {\n",
       "        text-align: right;\n",
       "    }\n",
       "</style>\n",
       "<table border=\"1\" class=\"dataframe\">\n",
       "  <thead>\n",
       "    <tr style=\"text-align: right;\">\n",
       "      <th></th>\n",
       "      <th>id</th>\n",
       "      <th>name</th>\n",
       "      <th>host_id</th>\n",
       "      <th>host_name</th>\n",
       "      <th>neighbourhood_group</th>\n",
       "      <th>neighbourhood</th>\n",
       "      <th>latitude</th>\n",
       "      <th>longitude</th>\n",
       "      <th>room_type</th>\n",
       "      <th>price</th>\n",
       "      <th>minimum_nights</th>\n",
       "      <th>number_of_reviews</th>\n",
       "      <th>last_review</th>\n",
       "      <th>reviews_per_month</th>\n",
       "      <th>calculated_host_listings_count</th>\n",
       "      <th>availability_365</th>\n",
       "    </tr>\n",
       "  </thead>\n",
       "  <tbody>\n",
       "    <tr>\n",
       "      <th>0</th>\n",
       "      <td>2539</td>\n",
       "      <td>Clean &amp; quiet apt home by the park</td>\n",
       "      <td>2787</td>\n",
       "      <td>John</td>\n",
       "      <td>Brooklyn</td>\n",
       "      <td>Kensington</td>\n",
       "      <td>40.64749</td>\n",
       "      <td>-73.97237</td>\n",
       "      <td>Private room</td>\n",
       "      <td>149</td>\n",
       "      <td>1</td>\n",
       "      <td>9</td>\n",
       "      <td>2018-10-19</td>\n",
       "      <td>0.21</td>\n",
       "      <td>6</td>\n",
       "      <td>365</td>\n",
       "    </tr>\n",
       "    <tr>\n",
       "      <th>1</th>\n",
       "      <td>2595</td>\n",
       "      <td>Skylit Midtown Castle</td>\n",
       "      <td>2845</td>\n",
       "      <td>Jennifer</td>\n",
       "      <td>Manhattan</td>\n",
       "      <td>Midtown</td>\n",
       "      <td>40.75362</td>\n",
       "      <td>-73.98377</td>\n",
       "      <td>Entire home/apt</td>\n",
       "      <td>225</td>\n",
       "      <td>1</td>\n",
       "      <td>45</td>\n",
       "      <td>2019-05-21</td>\n",
       "      <td>0.38</td>\n",
       "      <td>2</td>\n",
       "      <td>355</td>\n",
       "    </tr>\n",
       "    <tr>\n",
       "      <th>2</th>\n",
       "      <td>3647</td>\n",
       "      <td>THE VILLAGE OF HARLEM....NEW YORK !</td>\n",
       "      <td>4632</td>\n",
       "      <td>Elisabeth</td>\n",
       "      <td>Manhattan</td>\n",
       "      <td>Harlem</td>\n",
       "      <td>40.80902</td>\n",
       "      <td>-73.94190</td>\n",
       "      <td>Private room</td>\n",
       "      <td>150</td>\n",
       "      <td>3</td>\n",
       "      <td>0</td>\n",
       "      <td>NaN</td>\n",
       "      <td>NaN</td>\n",
       "      <td>1</td>\n",
       "      <td>365</td>\n",
       "    </tr>\n",
       "    <tr>\n",
       "      <th>3</th>\n",
       "      <td>3831</td>\n",
       "      <td>Cozy Entire Floor of Brownstone</td>\n",
       "      <td>4869</td>\n",
       "      <td>LisaRoxanne</td>\n",
       "      <td>Brooklyn</td>\n",
       "      <td>Clinton Hill</td>\n",
       "      <td>40.68514</td>\n",
       "      <td>-73.95976</td>\n",
       "      <td>Entire home/apt</td>\n",
       "      <td>89</td>\n",
       "      <td>1</td>\n",
       "      <td>270</td>\n",
       "      <td>2019-07-05</td>\n",
       "      <td>4.64</td>\n",
       "      <td>1</td>\n",
       "      <td>194</td>\n",
       "    </tr>\n",
       "    <tr>\n",
       "      <th>4</th>\n",
       "      <td>5022</td>\n",
       "      <td>Entire Apt: Spacious Studio/Loft by central park</td>\n",
       "      <td>7192</td>\n",
       "      <td>Laura</td>\n",
       "      <td>Manhattan</td>\n",
       "      <td>East Harlem</td>\n",
       "      <td>40.79851</td>\n",
       "      <td>-73.94399</td>\n",
       "      <td>Entire home/apt</td>\n",
       "      <td>80</td>\n",
       "      <td>10</td>\n",
       "      <td>9</td>\n",
       "      <td>2018-11-19</td>\n",
       "      <td>0.10</td>\n",
       "      <td>1</td>\n",
       "      <td>0</td>\n",
       "    </tr>\n",
       "  </tbody>\n",
       "</table>\n",
       "</div>"
      ],
      "text/plain": [
       "     id                                              name  host_id  \\\n",
       "0  2539                Clean & quiet apt home by the park     2787   \n",
       "1  2595                             Skylit Midtown Castle     2845   \n",
       "2  3647               THE VILLAGE OF HARLEM....NEW YORK !     4632   \n",
       "3  3831                   Cozy Entire Floor of Brownstone     4869   \n",
       "4  5022  Entire Apt: Spacious Studio/Loft by central park     7192   \n",
       "\n",
       "     host_name neighbourhood_group neighbourhood  latitude  longitude  \\\n",
       "0         John            Brooklyn    Kensington  40.64749  -73.97237   \n",
       "1     Jennifer           Manhattan       Midtown  40.75362  -73.98377   \n",
       "2    Elisabeth           Manhattan        Harlem  40.80902  -73.94190   \n",
       "3  LisaRoxanne            Brooklyn  Clinton Hill  40.68514  -73.95976   \n",
       "4        Laura           Manhattan   East Harlem  40.79851  -73.94399   \n",
       "\n",
       "         room_type  price  minimum_nights  number_of_reviews last_review  \\\n",
       "0     Private room    149               1                  9  2018-10-19   \n",
       "1  Entire home/apt    225               1                 45  2019-05-21   \n",
       "2     Private room    150               3                  0         NaN   \n",
       "3  Entire home/apt     89               1                270  2019-07-05   \n",
       "4  Entire home/apt     80              10                  9  2018-11-19   \n",
       "\n",
       "   reviews_per_month  calculated_host_listings_count  availability_365  \n",
       "0               0.21                               6               365  \n",
       "1               0.38                               2               355  \n",
       "2                NaN                               1               365  \n",
       "3               4.64                               1               194  \n",
       "4               0.10                               1                 0  "
      ]
     },
     "execution_count": 8,
     "metadata": {},
     "output_type": "execute_result"
    }
   ],
   "source": [
    "df = pd.DataFrame(dataset)\n",
    "df.head()"
   ]
  },
  {
   "cell_type": "code",
   "execution_count": 39,
   "id": "0d3eed14",
   "metadata": {},
   "outputs": [
    {
     "name": "stdout",
     "output_type": "stream",
     "text": [
      "Number of rows:  48895\n",
      "Number of Columns:  16\n"
     ]
    }
   ],
   "source": [
    "# The size of the data frame\n",
    "print(\"Number of rows: \", df.shape[0])\n",
    "print(\"Number of Columns: \", df.shape[1])"
   ]
  },
  {
   "cell_type": "code",
   "execution_count": 9,
   "id": "b57e3faf",
   "metadata": {},
   "outputs": [
    {
     "data": {
      "text/html": [
       "<div>\n",
       "<style scoped>\n",
       "    .dataframe tbody tr th:only-of-type {\n",
       "        vertical-align: middle;\n",
       "    }\n",
       "\n",
       "    .dataframe tbody tr th {\n",
       "        vertical-align: top;\n",
       "    }\n",
       "\n",
       "    .dataframe thead th {\n",
       "        text-align: right;\n",
       "    }\n",
       "</style>\n",
       "<table border=\"1\" class=\"dataframe\">\n",
       "  <thead>\n",
       "    <tr style=\"text-align: right;\">\n",
       "      <th></th>\n",
       "      <th>id</th>\n",
       "      <th>name</th>\n",
       "      <th>host_id</th>\n",
       "      <th>host_name</th>\n",
       "      <th>neighbourhood_group</th>\n",
       "      <th>neighbourhood</th>\n",
       "      <th>latitude</th>\n",
       "      <th>longitude</th>\n",
       "      <th>room_type</th>\n",
       "      <th>price</th>\n",
       "      <th>minimum_nights</th>\n",
       "      <th>number_of_reviews</th>\n",
       "      <th>last_review</th>\n",
       "      <th>reviews_per_month</th>\n",
       "      <th>calculated_host_listings_count</th>\n",
       "      <th>availability_365</th>\n",
       "    </tr>\n",
       "  </thead>\n",
       "  <tbody>\n",
       "    <tr>\n",
       "      <th>0</th>\n",
       "      <td>2539</td>\n",
       "      <td>Clean &amp; quiet apt home by the park</td>\n",
       "      <td>2787</td>\n",
       "      <td>John</td>\n",
       "      <td>Brooklyn</td>\n",
       "      <td>Kensington</td>\n",
       "      <td>40.64749</td>\n",
       "      <td>-73.97237</td>\n",
       "      <td>Private room</td>\n",
       "      <td>149</td>\n",
       "      <td>1</td>\n",
       "      <td>9</td>\n",
       "      <td>2018-10-19</td>\n",
       "      <td>0.21</td>\n",
       "      <td>6</td>\n",
       "      <td>365</td>\n",
       "    </tr>\n",
       "    <tr>\n",
       "      <th>1</th>\n",
       "      <td>2595</td>\n",
       "      <td>Skylit Midtown Castle</td>\n",
       "      <td>2845</td>\n",
       "      <td>Jennifer</td>\n",
       "      <td>Manhattan</td>\n",
       "      <td>Midtown</td>\n",
       "      <td>40.75362</td>\n",
       "      <td>-73.98377</td>\n",
       "      <td>Entire home/apt</td>\n",
       "      <td>225</td>\n",
       "      <td>1</td>\n",
       "      <td>45</td>\n",
       "      <td>2019-05-21</td>\n",
       "      <td>0.38</td>\n",
       "      <td>2</td>\n",
       "      <td>355</td>\n",
       "    </tr>\n",
       "    <tr>\n",
       "      <th>2</th>\n",
       "      <td>3647</td>\n",
       "      <td>THE VILLAGE OF HARLEM....NEW YORK !</td>\n",
       "      <td>4632</td>\n",
       "      <td>Elisabeth</td>\n",
       "      <td>Manhattan</td>\n",
       "      <td>Harlem</td>\n",
       "      <td>40.80902</td>\n",
       "      <td>-73.94190</td>\n",
       "      <td>Private room</td>\n",
       "      <td>150</td>\n",
       "      <td>3</td>\n",
       "      <td>0</td>\n",
       "      <td>NaN</td>\n",
       "      <td>NaN</td>\n",
       "      <td>1</td>\n",
       "      <td>365</td>\n",
       "    </tr>\n",
       "    <tr>\n",
       "      <th>3</th>\n",
       "      <td>3831</td>\n",
       "      <td>Cozy Entire Floor of Brownstone</td>\n",
       "      <td>4869</td>\n",
       "      <td>LisaRoxanne</td>\n",
       "      <td>Brooklyn</td>\n",
       "      <td>Clinton Hill</td>\n",
       "      <td>40.68514</td>\n",
       "      <td>-73.95976</td>\n",
       "      <td>Entire home/apt</td>\n",
       "      <td>89</td>\n",
       "      <td>1</td>\n",
       "      <td>270</td>\n",
       "      <td>2019-07-05</td>\n",
       "      <td>4.64</td>\n",
       "      <td>1</td>\n",
       "      <td>194</td>\n",
       "    </tr>\n",
       "    <tr>\n",
       "      <th>4</th>\n",
       "      <td>5022</td>\n",
       "      <td>Entire Apt: Spacious Studio/Loft by central park</td>\n",
       "      <td>7192</td>\n",
       "      <td>Laura</td>\n",
       "      <td>Manhattan</td>\n",
       "      <td>East Harlem</td>\n",
       "      <td>40.79851</td>\n",
       "      <td>-73.94399</td>\n",
       "      <td>Entire home/apt</td>\n",
       "      <td>80</td>\n",
       "      <td>10</td>\n",
       "      <td>9</td>\n",
       "      <td>2018-11-19</td>\n",
       "      <td>0.10</td>\n",
       "      <td>1</td>\n",
       "      <td>0</td>\n",
       "    </tr>\n",
       "  </tbody>\n",
       "</table>\n",
       "</div>"
      ],
      "text/plain": [
       "     id                                              name  host_id  \\\n",
       "0  2539                Clean & quiet apt home by the park     2787   \n",
       "1  2595                             Skylit Midtown Castle     2845   \n",
       "2  3647               THE VILLAGE OF HARLEM....NEW YORK !     4632   \n",
       "3  3831                   Cozy Entire Floor of Brownstone     4869   \n",
       "4  5022  Entire Apt: Spacious Studio/Loft by central park     7192   \n",
       "\n",
       "     host_name neighbourhood_group neighbourhood  latitude  longitude  \\\n",
       "0         John            Brooklyn    Kensington  40.64749  -73.97237   \n",
       "1     Jennifer           Manhattan       Midtown  40.75362  -73.98377   \n",
       "2    Elisabeth           Manhattan        Harlem  40.80902  -73.94190   \n",
       "3  LisaRoxanne            Brooklyn  Clinton Hill  40.68514  -73.95976   \n",
       "4        Laura           Manhattan   East Harlem  40.79851  -73.94399   \n",
       "\n",
       "         room_type  price  minimum_nights  number_of_reviews last_review  \\\n",
       "0     Private room    149               1                  9  2018-10-19   \n",
       "1  Entire home/apt    225               1                 45  2019-05-21   \n",
       "2     Private room    150               3                  0         NaN   \n",
       "3  Entire home/apt     89               1                270  2019-07-05   \n",
       "4  Entire home/apt     80              10                  9  2018-11-19   \n",
       "\n",
       "   reviews_per_month  calculated_host_listings_count  availability_365  \n",
       "0               0.21                               6               365  \n",
       "1               0.38                               2               355  \n",
       "2                NaN                               1               365  \n",
       "3               4.64                               1               194  \n",
       "4               0.10                               1                 0  "
      ]
     },
     "execution_count": 9,
     "metadata": {},
     "output_type": "execute_result"
    }
   ],
   "source": [
    "# make all column headings uniform with lower case and replace spaces with underscores\n",
    "df.columns = df.columns.str.lower().str.replace(\" \", \"_\")\n",
    "df.head()"
   ]
  },
  {
   "cell_type": "code",
   "execution_count": 12,
   "id": "e6d060a1",
   "metadata": {},
   "outputs": [
    {
     "data": {
      "text/plain": [
       "['name',\n",
       " 'host_name',\n",
       " 'neighbourhood_group',\n",
       " 'neighbourhood',\n",
       " 'room_type',\n",
       " 'last_review']"
      ]
     },
     "execution_count": 12,
     "metadata": {},
     "output_type": "execute_result"
    }
   ],
   "source": [
    "# list all columns whose values are objects\n",
    "strings = list(df.dtypes[df.dtypes == \"object\"].index)\n",
    "strings"
   ]
  },
  {
   "cell_type": "code",
   "execution_count": 18,
   "id": "99f61201",
   "metadata": {},
   "outputs": [],
   "source": [
    "# make all object values lower case and replaces spaces with underscores\n",
    "for col in strings:\n",
    "    df[col] = df[col].str.lower().str.replace(\" \", \"_\")"
   ]
  },
  {
   "cell_type": "code",
   "execution_count": 19,
   "id": "fc22079c",
   "metadata": {},
   "outputs": [
    {
     "data": {
      "text/html": [
       "<div>\n",
       "<style scoped>\n",
       "    .dataframe tbody tr th:only-of-type {\n",
       "        vertical-align: middle;\n",
       "    }\n",
       "\n",
       "    .dataframe tbody tr th {\n",
       "        vertical-align: top;\n",
       "    }\n",
       "\n",
       "    .dataframe thead th {\n",
       "        text-align: right;\n",
       "    }\n",
       "</style>\n",
       "<table border=\"1\" class=\"dataframe\">\n",
       "  <thead>\n",
       "    <tr style=\"text-align: right;\">\n",
       "      <th></th>\n",
       "      <th>id</th>\n",
       "      <th>name</th>\n",
       "      <th>host_id</th>\n",
       "      <th>host_name</th>\n",
       "      <th>neighbourhood_group</th>\n",
       "      <th>neighbourhood</th>\n",
       "      <th>latitude</th>\n",
       "      <th>longitude</th>\n",
       "      <th>room_type</th>\n",
       "      <th>price</th>\n",
       "      <th>minimum_nights</th>\n",
       "      <th>number_of_reviews</th>\n",
       "      <th>last_review</th>\n",
       "      <th>reviews_per_month</th>\n",
       "      <th>calculated_host_listings_count</th>\n",
       "      <th>availability_365</th>\n",
       "    </tr>\n",
       "  </thead>\n",
       "  <tbody>\n",
       "    <tr>\n",
       "      <th>0</th>\n",
       "      <td>2539</td>\n",
       "      <td>clean_&amp;_quiet_apt_home_by_the_park</td>\n",
       "      <td>2787</td>\n",
       "      <td>john</td>\n",
       "      <td>brooklyn</td>\n",
       "      <td>kensington</td>\n",
       "      <td>40.64749</td>\n",
       "      <td>-73.97237</td>\n",
       "      <td>private_room</td>\n",
       "      <td>149</td>\n",
       "      <td>1</td>\n",
       "      <td>9</td>\n",
       "      <td>2018-10-19</td>\n",
       "      <td>0.21</td>\n",
       "      <td>6</td>\n",
       "      <td>365</td>\n",
       "    </tr>\n",
       "    <tr>\n",
       "      <th>1</th>\n",
       "      <td>2595</td>\n",
       "      <td>skylit_midtown_castle</td>\n",
       "      <td>2845</td>\n",
       "      <td>jennifer</td>\n",
       "      <td>manhattan</td>\n",
       "      <td>midtown</td>\n",
       "      <td>40.75362</td>\n",
       "      <td>-73.98377</td>\n",
       "      <td>entire_home/apt</td>\n",
       "      <td>225</td>\n",
       "      <td>1</td>\n",
       "      <td>45</td>\n",
       "      <td>2019-05-21</td>\n",
       "      <td>0.38</td>\n",
       "      <td>2</td>\n",
       "      <td>355</td>\n",
       "    </tr>\n",
       "    <tr>\n",
       "      <th>2</th>\n",
       "      <td>3647</td>\n",
       "      <td>the_village_of_harlem....new_york_!</td>\n",
       "      <td>4632</td>\n",
       "      <td>elisabeth</td>\n",
       "      <td>manhattan</td>\n",
       "      <td>harlem</td>\n",
       "      <td>40.80902</td>\n",
       "      <td>-73.94190</td>\n",
       "      <td>private_room</td>\n",
       "      <td>150</td>\n",
       "      <td>3</td>\n",
       "      <td>0</td>\n",
       "      <td>NaN</td>\n",
       "      <td>NaN</td>\n",
       "      <td>1</td>\n",
       "      <td>365</td>\n",
       "    </tr>\n",
       "    <tr>\n",
       "      <th>3</th>\n",
       "      <td>3831</td>\n",
       "      <td>cozy_entire_floor_of_brownstone</td>\n",
       "      <td>4869</td>\n",
       "      <td>lisaroxanne</td>\n",
       "      <td>brooklyn</td>\n",
       "      <td>clinton_hill</td>\n",
       "      <td>40.68514</td>\n",
       "      <td>-73.95976</td>\n",
       "      <td>entire_home/apt</td>\n",
       "      <td>89</td>\n",
       "      <td>1</td>\n",
       "      <td>270</td>\n",
       "      <td>2019-07-05</td>\n",
       "      <td>4.64</td>\n",
       "      <td>1</td>\n",
       "      <td>194</td>\n",
       "    </tr>\n",
       "    <tr>\n",
       "      <th>4</th>\n",
       "      <td>5022</td>\n",
       "      <td>entire_apt:_spacious_studio/loft_by_central_park</td>\n",
       "      <td>7192</td>\n",
       "      <td>laura</td>\n",
       "      <td>manhattan</td>\n",
       "      <td>east_harlem</td>\n",
       "      <td>40.79851</td>\n",
       "      <td>-73.94399</td>\n",
       "      <td>entire_home/apt</td>\n",
       "      <td>80</td>\n",
       "      <td>10</td>\n",
       "      <td>9</td>\n",
       "      <td>2018-11-19</td>\n",
       "      <td>0.10</td>\n",
       "      <td>1</td>\n",
       "      <td>0</td>\n",
       "    </tr>\n",
       "  </tbody>\n",
       "</table>\n",
       "</div>"
      ],
      "text/plain": [
       "     id                                              name  host_id  \\\n",
       "0  2539                clean_&_quiet_apt_home_by_the_park     2787   \n",
       "1  2595                             skylit_midtown_castle     2845   \n",
       "2  3647               the_village_of_harlem....new_york_!     4632   \n",
       "3  3831                   cozy_entire_floor_of_brownstone     4869   \n",
       "4  5022  entire_apt:_spacious_studio/loft_by_central_park     7192   \n",
       "\n",
       "     host_name neighbourhood_group neighbourhood  latitude  longitude  \\\n",
       "0         john            brooklyn    kensington  40.64749  -73.97237   \n",
       "1     jennifer           manhattan       midtown  40.75362  -73.98377   \n",
       "2    elisabeth           manhattan        harlem  40.80902  -73.94190   \n",
       "3  lisaroxanne            brooklyn  clinton_hill  40.68514  -73.95976   \n",
       "4        laura           manhattan   east_harlem  40.79851  -73.94399   \n",
       "\n",
       "         room_type  price  minimum_nights  number_of_reviews last_review  \\\n",
       "0     private_room    149               1                  9  2018-10-19   \n",
       "1  entire_home/apt    225               1                 45  2019-05-21   \n",
       "2     private_room    150               3                  0         NaN   \n",
       "3  entire_home/apt     89               1                270  2019-07-05   \n",
       "4  entire_home/apt     80              10                  9  2018-11-19   \n",
       "\n",
       "   reviews_per_month  calculated_host_listings_count  availability_365  \n",
       "0               0.21                               6               365  \n",
       "1               0.38                               2               355  \n",
       "2                NaN                               1               365  \n",
       "3               4.64                               1               194  \n",
       "4               0.10                               1                 0  "
      ]
     },
     "execution_count": 19,
     "metadata": {},
     "output_type": "execute_result"
    }
   ],
   "source": [
    "# nicely prepared Data Frame\n",
    "df.head()"
   ]
  },
  {
   "cell_type": "markdown",
   "id": "bd2183a1",
   "metadata": {},
   "source": [
    "## Exploratory Data Analysis"
   ]
  },
  {
   "cell_type": "code",
   "execution_count": 23,
   "id": "72db921b",
   "metadata": {},
   "outputs": [
    {
     "name": "stdout",
     "output_type": "stream",
     "text": [
      "id\n",
      "[2539 2595 3647 3831 5022]\n",
      "48895\n",
      "\n",
      "name\n",
      "['clean_&_quiet_apt_home_by_the_park' 'skylit_midtown_castle'\n",
      " 'the_village_of_harlem....new_york_!' 'cozy_entire_floor_of_brownstone'\n",
      " 'entire_apt:_spacious_studio/loft_by_central_park']\n",
      "47486\n",
      "\n",
      "host_id\n",
      "[2787 2845 4632 4869 7192]\n",
      "37457\n",
      "\n",
      "host_name\n",
      "['john' 'jennifer' 'elisabeth' 'lisaroxanne' 'laura']\n",
      "11428\n",
      "\n",
      "neighbourhood_group\n",
      "['brooklyn' 'manhattan' 'queens' 'staten_island' 'bronx']\n",
      "5\n",
      "\n",
      "neighbourhood\n",
      "['kensington' 'midtown' 'harlem' 'clinton_hill' 'east_harlem']\n",
      "221\n",
      "\n",
      "latitude\n",
      "[40.64749 40.75362 40.80902 40.68514 40.79851]\n",
      "19048\n",
      "\n",
      "longitude\n",
      "[-73.97237 -73.98377 -73.9419  -73.95976 -73.94399]\n",
      "14718\n",
      "\n",
      "room_type\n",
      "['private_room' 'entire_home/apt' 'shared_room']\n",
      "3\n",
      "\n",
      "price\n",
      "[149 225 150  89  80]\n",
      "674\n",
      "\n",
      "minimum_nights\n",
      "[ 1  3 10 45  2]\n",
      "109\n",
      "\n",
      "number_of_reviews\n",
      "[  9  45   0 270  74]\n",
      "394\n",
      "\n",
      "last_review\n",
      "['2018-10-19' '2019-05-21' nan '2019-07-05' '2018-11-19']\n",
      "1764\n",
      "\n",
      "reviews_per_month\n",
      "[0.21 0.38  nan 4.64 0.1 ]\n",
      "937\n",
      "\n",
      "calculated_host_listings_count\n",
      "[6 2 1 4 3]\n",
      "47\n",
      "\n",
      "availability_365\n",
      "[365 355 194   0 129]\n",
      "366\n",
      "\n"
     ]
    }
   ],
   "source": [
    "# check for some information about columns such as unique values, number of unique values per column e.t.c.\n",
    "for col in df.columns:\n",
    "    print(col)\n",
    "    print(df[col].unique()[:5])\n",
    "    print(df[col].nunique())\n",
    "    print()"
   ]
  },
  {
   "cell_type": "markdown",
   "id": "2f029b6e",
   "metadata": {},
   "source": [
    "Visualize the Distribution of Price"
   ]
  },
  {
   "cell_type": "code",
   "execution_count": 24,
   "id": "19556104",
   "metadata": {},
   "outputs": [],
   "source": [
    "# import Data Visualization libraries\n",
    "import matplotlib.pyplot as plt\n",
    "import seaborn as sns\n",
    "\n",
    "%matplotlib inline"
   ]
  },
  {
   "cell_type": "code",
   "execution_count": 25,
   "id": "d7ef9cc9",
   "metadata": {},
   "outputs": [
    {
     "data": {
      "text/plain": [
       "<AxesSubplot:xlabel='price', ylabel='Count'>"
      ]
     },
     "execution_count": 25,
     "metadata": {},
     "output_type": "execute_result"
    },
    {
     "data": {
      "image/png": "[encoded data removed]",
      "text/plain": [
       "<Figure size 432x288 with 1 Axes>"
      ]
     },
     "metadata": {
      "needs_background": "light"
     },
     "output_type": "display_data"
    }
   ],
   "source": [
    "sns.histplot(df.price, bins=50)"
   ]
  },
  {
   "cell_type": "markdown",
   "id": "98df3d96",
   "metadata": {},
   "source": [
    "Price distribution is a long tail"
   ]
  },
  {
   "cell_type": "code",
   "execution_count": 35,
   "id": "301bfd5a",
   "metadata": {},
   "outputs": [
    {
     "data": {
      "text/plain": [
       "<AxesSubplot:xlabel='price', ylabel='Count'>"
      ]
     },
     "execution_count": 35,
     "metadata": {},
     "output_type": "execute_result"
    },
    {
     "data": {
      "image/png": "[encoded data removed]",
      "text/plain": [
       "<Figure size 432x288 with 1 Axes>"
      ]
     },
     "metadata": {
      "needs_background": "light"
     },
     "output_type": "display_data"
    }
   ],
   "source": [
    "# histogram of prices less than 700\n",
    "sns.histplot(df.price[df.price < 700], bins=50)"
   ]
  },
  {
   "cell_type": "code",
   "execution_count": 36,
   "id": "51138db7",
   "metadata": {},
   "outputs": [
    {
     "data": {
      "text/plain": [
       "<AxesSubplot:xlabel='price', ylabel='Count'>"
      ]
     },
     "execution_count": 36,
     "metadata": {},
     "output_type": "execute_result"
    },
    {
     "data": {
      "image/png": "[encoded data removed]",
      "text/plain": [
       "<Figure size 432x288 with 1 Axes>"
      ]
     },
     "metadata": {
      "needs_background": "light"
     },
     "output_type": "display_data"
    }
   ],
   "source": [
    "# applying logarithmic transformation on the price set to handle long tail distribution\n",
    "price_logs = np.log1p(df.price)\n",
    "sns.histplot(price_logs, bins=50)"
   ]
  },
  {
   "cell_type": "markdown",
   "id": "2c9d7392",
   "metadata": {},
   "source": [
    "Missing Values"
   ]
  },
  {
   "cell_type": "code",
   "execution_count": 37,
   "id": "4f5aaf81",
   "metadata": {},
   "outputs": [
    {
     "data": {
      "text/plain": [
       "id                                    0\n",
       "name                                 16\n",
       "host_id                               0\n",
       "host_name                            21\n",
       "neighbourhood_group                   0\n",
       "neighbourhood                         0\n",
       "latitude                              0\n",
       "longitude                             0\n",
       "room_type                             0\n",
       "price                                 0\n",
       "minimum_nights                        0\n",
       "number_of_reviews                     0\n",
       "last_review                       10052\n",
       "reviews_per_month                 10052\n",
       "calculated_host_listings_count        0\n",
       "availability_365                      0\n",
       "dtype: int64"
      ]
     },
     "execution_count": 37,
     "metadata": {},
     "output_type": "execute_result"
    }
   ],
   "source": [
    "df.isnull().sum()"
   ]
  },
  {
   "cell_type": "markdown",
   "id": "5d4e5739",
   "metadata": {},
   "source": [
    "Features with missing values are <b> name, host_name, last review and review_per_month</b>"
   ]
  },
  {
   "cell_type": "code",
   "execution_count": 42,
   "id": "8efbc476",
   "metadata": {},
   "outputs": [
    {
     "data": {
      "text/plain": [
       "count    48895.000000\n",
       "mean         7.029962\n",
       "std         20.510550\n",
       "min          1.000000\n",
       "25%          1.000000\n",
       "50%          3.000000\n",
       "75%          5.000000\n",
       "max       1250.000000\n",
       "Name: minimum_nights, dtype: float64"
      ]
     },
     "execution_count": 42,
     "metadata": {},
     "output_type": "execute_result"
    }
   ],
   "source": [
    "# median (50% percentile) for the variable \"minimum_nights\"\n",
    "df.minimum_nights.describe()"
   ]
  },
  {
   "cell_type": "markdown",
   "id": "4aa143cb",
   "metadata": {},
   "source": [
    "The media value of the variable \"minimum_nights\" is 3.0"
   ]
  },
  {
   "cell_type": "markdown",
   "id": "8fd569b0",
   "metadata": {},
   "source": [
    "## Setting up the Validation Framework"
   ]
  },
  {
   "cell_type": "code",
   "execution_count": 45,
   "id": "fdce76af",
   "metadata": {},
   "outputs": [],
   "source": [
    "# check the length of the data frame\n",
    "n = len(df)\n",
    "# validation and test sets\n",
    "n_val = int(n * 0.2)\n",
    "n_test = int(n * 0.2)\n",
    "# train set\n",
    "n_train = n - n_val - n_test"
   ]
  },
  {
   "cell_type": "code",
   "execution_count": 46,
   "id": "cc5a9033",
   "metadata": {},
   "outputs": [
    {
     "data": {
      "text/plain": [
       "(48895, 48895)"
      ]
     },
     "execution_count": 46,
     "metadata": {},
     "output_type": "execute_result"
    }
   ],
   "source": [
    "# compare the size of the data frame and that of n_train, n_val and n_test combined\n",
    "n, n_train + n_val + n_test"
   ]
  },
  {
   "cell_type": "markdown",
   "id": "0f0c93ff",
   "metadata": {},
   "source": [
    "During spliting, I used int to round the sets to the nearest whole number. I then subtracted both n_val and n_test from n to create n_train, this was to make sure that all sets when combined maintain the same size as that of the original set."
   ]
  },
  {
   "cell_type": "code",
   "execution_count": 47,
   "id": "481db6bc",
   "metadata": {},
   "outputs": [
    {
     "data": {
      "text/plain": [
       "(29337, 9779, 9779)"
      ]
     },
     "execution_count": 47,
     "metadata": {},
     "output_type": "execute_result"
    }
   ],
   "source": [
    "# check the number of rows per each set\n",
    "n_train, n_val, n_test"
   ]
  },
  {
   "cell_type": "code",
   "execution_count": 67,
   "id": "f3c0408f",
   "metadata": {},
   "outputs": [],
   "source": [
    "# assign the first 60% of the data to n_train\n",
    "df_train = df.iloc[:n_train]\n",
    "# assign the next 20% of the data to n_val\n",
    "df_val = df.iloc[n_train:n_train+n_val]\n",
    "# assign the remaining 20% of the data to n_test\n",
    "df_test = df.iloc[n_train+n_val:]"
   ]
  },
  {
   "cell_type": "code",
   "execution_count": 68,
   "id": "a7375e23",
   "metadata": {},
   "outputs": [
    {
     "name": "stdout",
     "output_type": "stream",
     "text": [
      "Train set shape:  29337\n",
      "Validation set shape:  9779\n",
      "Test set shape:  9779\n"
     ]
    }
   ],
   "source": [
    "# check the shapes of each set\n",
    "print(\"Train set shape: \", len(df_train))\n",
    "print(\"Validation set shape: \", len(df_val))\n",
    "print(\"Test set shape: \", len(df_test))"
   ]
  },
  {
   "cell_type": "code",
   "execution_count": 58,
   "id": "6dfe19f3",
   "metadata": {},
   "outputs": [],
   "source": [
    "# create an index to arrange n\n",
    "# the indes will be used to assign random values to the dataset\n",
    "idx = np.arange(n)"
   ]
  },
  {
   "cell_type": "code",
   "execution_count": 59,
   "id": "232dbd12",
   "metadata": {},
   "outputs": [],
   "source": [
    "# shuffle the index for efficiency to make sure that the model does not train from fixed values\n",
    "np.random.seed(42)\n",
    "np.random.shuffle(idx)"
   ]
  },
  {
   "cell_type": "code",
   "execution_count": 60,
   "id": "f46f9362",
   "metadata": {},
   "outputs": [
    {
     "data": {
      "text/plain": [
       "array([  743, 36546, 16439, ..., 38158,   860, 15795])"
      ]
     },
     "execution_count": 60,
     "metadata": {},
     "output_type": "execute_result"
    }
   ],
   "source": [
    "# test the index\n",
    "idx[n_train:]"
   ]
  },
  {
   "cell_type": "code",
   "execution_count": 65,
   "id": "af6deb63",
   "metadata": {},
   "outputs": [],
   "source": [
    "# Use the shuffled index to assign values to the datasets\n",
    "# assign the first 60% of the data to n_train\n",
    "df_train = df.iloc[idx[:n_train]]\n",
    "# assign the next 20% of the data to n_val\n",
    "df_val = df.iloc[idx[n_train:n_train+n_val]]\n",
    "# assign the remaining 20% of the data to n_test\n",
    "df_test = df.iloc[idx[n_train+n_val:]]"
   ]
  },
  {
   "cell_type": "code",
   "execution_count": 63,
   "id": "df1a6390",
   "metadata": {},
   "outputs": [
    {
     "data": {
      "text/html": [
       "<div>\n",
       "<style scoped>\n",
       "    .dataframe tbody tr th:only-of-type {\n",
       "        vertical-align: middle;\n",
       "    }\n",
       "\n",
       "    .dataframe tbody tr th {\n",
       "        vertical-align: top;\n",
       "    }\n",
       "\n",
       "    .dataframe thead th {\n",
       "        text-align: right;\n",
       "    }\n",
       "</style>\n",
       "<table border=\"1\" class=\"dataframe\">\n",
       "  <thead>\n",
       "    <tr style=\"text-align: right;\">\n",
       "      <th></th>\n",
       "      <th>id</th>\n",
       "      <th>name</th>\n",
       "      <th>host_id</th>\n",
       "      <th>host_name</th>\n",
       "      <th>neighbourhood_group</th>\n",
       "      <th>neighbourhood</th>\n",
       "      <th>latitude</th>\n",
       "      <th>longitude</th>\n",
       "      <th>room_type</th>\n",
       "      <th>price</th>\n",
       "      <th>minimum_nights</th>\n",
       "      <th>number_of_reviews</th>\n",
       "      <th>last_review</th>\n",
       "      <th>reviews_per_month</th>\n",
       "      <th>calculated_host_listings_count</th>\n",
       "      <th>availability_365</th>\n",
       "    </tr>\n",
       "  </thead>\n",
       "  <tbody>\n",
       "    <tr>\n",
       "      <th>743</th>\n",
       "      <td>269283</td>\n",
       "      <td>brooklyn:_a_huge_bedroom_+_good_vibes</td>\n",
       "      <td>1410714</td>\n",
       "      <td>antoinette</td>\n",
       "      <td>brooklyn</td>\n",
       "      <td>crown_heights</td>\n",
       "      <td>40.66431</td>\n",
       "      <td>-73.93216</td>\n",
       "      <td>private_room</td>\n",
       "      <td>50</td>\n",
       "      <td>3</td>\n",
       "      <td>26</td>\n",
       "      <td>2019-02-16</td>\n",
       "      <td>0.33</td>\n",
       "      <td>1</td>\n",
       "      <td>158</td>\n",
       "    </tr>\n",
       "    <tr>\n",
       "      <th>36546</th>\n",
       "      <td>29058736</td>\n",
       "      <td>spacious_basement_bedroom_in_duplex_w/_yard_ac...</td>\n",
       "      <td>142833006</td>\n",
       "      <td>cj</td>\n",
       "      <td>brooklyn</td>\n",
       "      <td>bushwick</td>\n",
       "      <td>40.70631</td>\n",
       "      <td>-73.92064</td>\n",
       "      <td>private_room</td>\n",
       "      <td>42</td>\n",
       "      <td>2</td>\n",
       "      <td>2</td>\n",
       "      <td>2019-01-21</td>\n",
       "      <td>0.26</td>\n",
       "      <td>1</td>\n",
       "      <td>0</td>\n",
       "    </tr>\n",
       "    <tr>\n",
       "      <th>16439</th>\n",
       "      <td>13192379</td>\n",
       "      <td>elegant_room_in_northern_manhattan</td>\n",
       "      <td>40439772</td>\n",
       "      <td>ezra</td>\n",
       "      <td>manhattan</td>\n",
       "      <td>washington_heights</td>\n",
       "      <td>40.85244</td>\n",
       "      <td>-73.93126</td>\n",
       "      <td>private_room</td>\n",
       "      <td>40</td>\n",
       "      <td>2</td>\n",
       "      <td>11</td>\n",
       "      <td>2019-04-18</td>\n",
       "      <td>0.29</td>\n",
       "      <td>2</td>\n",
       "      <td>16</td>\n",
       "    </tr>\n",
       "    <tr>\n",
       "      <th>37435</th>\n",
       "      <td>29704561</td>\n",
       "      <td>huge_designer_soho_loft_(elevator)_private_ter...</td>\n",
       "      <td>54377368</td>\n",
       "      <td>alexander</td>\n",
       "      <td>manhattan</td>\n",
       "      <td>lower_east_side</td>\n",
       "      <td>40.72100</td>\n",
       "      <td>-73.99218</td>\n",
       "      <td>entire_home/apt</td>\n",
       "      <td>350</td>\n",
       "      <td>2</td>\n",
       "      <td>5</td>\n",
       "      <td>2019-06-28</td>\n",
       "      <td>0.74</td>\n",
       "      <td>1</td>\n",
       "      <td>326</td>\n",
       "    </tr>\n",
       "    <tr>\n",
       "      <th>11400</th>\n",
       "      <td>8857546</td>\n",
       "      <td>comfy_rooms</td>\n",
       "      <td>45601111</td>\n",
       "      <td>dlb</td>\n",
       "      <td>queens</td>\n",
       "      <td>laurelton</td>\n",
       "      <td>40.66943</td>\n",
       "      <td>-73.74778</td>\n",
       "      <td>private_room</td>\n",
       "      <td>45</td>\n",
       "      <td>2</td>\n",
       "      <td>85</td>\n",
       "      <td>2019-05-26</td>\n",
       "      <td>1.99</td>\n",
       "      <td>5</td>\n",
       "      <td>333</td>\n",
       "    </tr>\n",
       "  </tbody>\n",
       "</table>\n",
       "</div>"
      ],
      "text/plain": [
       "             id                                               name    host_id  \\\n",
       "743      269283              brooklyn:_a_huge_bedroom_+_good_vibes    1410714   \n",
       "36546  29058736  spacious_basement_bedroom_in_duplex_w/_yard_ac...  142833006   \n",
       "16439  13192379                 elegant_room_in_northern_manhattan   40439772   \n",
       "37435  29704561  huge_designer_soho_loft_(elevator)_private_ter...   54377368   \n",
       "11400   8857546                                        comfy_rooms   45601111   \n",
       "\n",
       "        host_name neighbourhood_group       neighbourhood  latitude  \\\n",
       "743    antoinette            brooklyn       crown_heights  40.66431   \n",
       "36546          cj            brooklyn            bushwick  40.70631   \n",
       "16439        ezra           manhattan  washington_heights  40.85244   \n",
       "37435   alexander           manhattan     lower_east_side  40.72100   \n",
       "11400         dlb              queens           laurelton  40.66943   \n",
       "\n",
       "       longitude        room_type  price  minimum_nights  number_of_reviews  \\\n",
       "743    -73.93216     private_room     50               3                 26   \n",
       "36546  -73.92064     private_room     42               2                  2   \n",
       "16439  -73.93126     private_room     40               2                 11   \n",
       "37435  -73.99218  entire_home/apt    350               2                  5   \n",
       "11400  -73.74778     private_room     45               2                 85   \n",
       "\n",
       "      last_review  reviews_per_month  calculated_host_listings_count  \\\n",
       "743    2019-02-16               0.33                               1   \n",
       "36546  2019-01-21               0.26                               1   \n",
       "16439  2019-04-18               0.29                               2   \n",
       "37435  2019-06-28               0.74                               1   \n",
       "11400  2019-05-26               1.99                               5   \n",
       "\n",
       "       availability_365  \n",
       "743                 158  \n",
       "36546                 0  \n",
       "16439                16  \n",
       "37435               326  \n",
       "11400               333  "
      ]
     },
     "execution_count": 63,
     "metadata": {},
     "output_type": "execute_result"
    }
   ],
   "source": [
    "df_train.head()"
   ]
  },
  {
   "cell_type": "code",
   "execution_count": 66,
   "id": "5d7306a1",
   "metadata": {},
   "outputs": [
    {
     "data": {
      "text/plain": [
       "(29337, 9779, 9779)"
      ]
     },
     "execution_count": 66,
     "metadata": {},
     "output_type": "execute_result"
    }
   ],
   "source": [
    "# check the lengths of each set\n",
    "len(df_train), len(df_val), len(df_test)"
   ]
  },
  {
   "cell_type": "code",
   "execution_count": 69,
   "id": "3cf8fb36",
   "metadata": {},
   "outputs": [],
   "source": [
    "# reset the index values to be in sequence with each other\n",
    "df_train = df_train.reset_index(drop=True)\n",
    "df_val = df_val.reset_index(drop=True)\n",
    "df_test = df_test.reset_index(drop=True)"
   ]
  },
  {
   "cell_type": "code",
   "execution_count": 70,
   "id": "3a630e54",
   "metadata": {},
   "outputs": [],
   "source": [
    "# apply logarithmic transformation to the target variables in each set\n",
    "y_train = np.log1p(df_train.price.values)\n",
    "y_val = np.log1p(df_val.price.values)\n",
    "y_test = np.log1p(df_test.price.values)"
   ]
  },
  {
   "cell_type": "code",
   "execution_count": 71,
   "id": "889bc9e8",
   "metadata": {},
   "outputs": [
    {
     "data": {
      "text/plain": [
       "(array([5.01063529, 5.420535  , 5.01727984, ..., 4.61512052, 4.11087386,\n",
       "        5.86078622]),\n",
       " array([4.11087386, 3.76120012, 4.11087386, ..., 4.63472899, 4.39444915,\n",
       "        5.96870756]),\n",
       " array([6.11146734, 5.29831737, 4.7095302 , ..., 4.75359019, 4.02535169,\n",
       "        4.51085951]))"
      ]
     },
     "execution_count": 71,
     "metadata": {},
     "output_type": "execute_result"
    }
   ],
   "source": [
    "# check the target variables arrays\n",
    "y_train, y_val, y_test"
   ]
  },
  {
   "cell_type": "code",
   "execution_count": 72,
   "id": "80ff1b22",
   "metadata": {},
   "outputs": [],
   "source": [
    "# remove the target variables to make sure that they are not accidentally used as X variables\n",
    "del df_train[\"price\"]\n",
    "del df_val[\"price\"]\n",
    "del df_test[\"price\"]"
   ]
  },
  {
   "cell_type": "code",
   "execution_count": 73,
   "id": "0f985271",
   "metadata": {},
   "outputs": [
    {
     "data": {
      "text/plain": [
       "(29337, 9779, 9779)"
      ]
     },
     "execution_count": 73,
     "metadata": {},
     "output_type": "execute_result"
    }
   ],
   "source": [
    "# check the lengths of target variables to make sure that they are consistent with those of X variables\n",
    "len(y_train), len(y_val), len(y_test)"
   ]
  },
  {
   "cell_type": "markdown",
   "id": "88cb7d5c",
   "metadata": {},
   "source": [
    "## Linear Regression"
   ]
  },
  {
   "cell_type": "code",
   "execution_count": 76,
   "id": "6d4730f7",
   "metadata": {},
   "outputs": [
    {
     "data": {
      "text/plain": [
       "id                                                            5295\n",
       "name                              beautiful_1br_on_upper_west_side\n",
       "host_id                                                       7702\n",
       "host_name                                                     lena\n",
       "neighbourhood_group                                      manhattan\n",
       "neighbourhood                                      upper_west_side\n",
       "latitude                                                  40.80316\n",
       "longitude                                                -73.96545\n",
       "room_type                                          entire_home/apt\n",
       "minimum_nights                                                   5\n",
       "number_of_reviews                                               53\n",
       "last_review                                             2019-06-22\n",
       "reviews_per_month                                             0.43\n",
       "calculated_host_listings_count                                   1\n",
       "availability_365                                                 6\n",
       "Name: 10, dtype: object"
      ]
     },
     "execution_count": 76,
     "metadata": {},
     "output_type": "execute_result"
    }
   ],
   "source": [
    "# check the values of the 10'th row of the train set\n",
    "df_train.iloc[10]"
   ]
  },
  {
   "cell_type": "code",
   "execution_count": 77,
   "id": "d8ee14cb",
   "metadata": {},
   "outputs": [],
   "source": [
    "# The train linear regression function\n",
    "def train_linear_regression(X, y):\n",
    "    ones = np.ones(X.shape[0])\n",
    "    X = np.column_stack([ones, X])\n",
    "    \n",
    "    XTX = X.T.dot(X)\n",
    "    XTX_inv = np.linalg.inv(XTX)\n",
    "    w_full = XTX_inv.dot(X.T).dot(y)\n",
    "    \n",
    "    return w_full[0], w_full[1:]"
   ]
  },
  {
   "cell_type": "markdown",
   "id": "086199fd",
   "metadata": {},
   "source": [
    "## Apartment Baseline Model"
   ]
  },
  {
   "cell_type": "code",
   "execution_count": 78,
   "id": "0f82b15b",
   "metadata": {},
   "outputs": [
    {
     "data": {
      "text/plain": [
       "Index(['id', 'name', 'host_id', 'host_name', 'neighbourhood_group',\n",
       "       'neighbourhood', 'latitude', 'longitude', 'room_type', 'minimum_nights',\n",
       "       'number_of_reviews', 'last_review', 'reviews_per_month',\n",
       "       'calculated_host_listings_count', 'availability_365'],\n",
       "      dtype='object')"
      ]
     },
     "execution_count": 78,
     "metadata": {},
     "output_type": "execute_result"
    }
   ],
   "source": [
    "df_train.columns"
   ]
  },
  {
   "cell_type": "code",
   "execution_count": 81,
   "id": "a33da705",
   "metadata": {},
   "outputs": [],
   "source": [
    "# extract features with numerical values from the data set\n",
    "base = [\n",
    "    'latitude', 'longitude', 'minimum_nights', 'number_of_reviews', 'reviews_per_month',\n",
    "    'calculated_host_listings_count', 'availability_365'\n",
    "]"
   ]
  },
  {
   "cell_type": "markdown",
   "id": "6d46a008",
   "metadata": {},
   "source": [
    "Among all the above <b>base features</b>, the only feature with null values is the <b>reviews_per_month</b> column"
   ]
  },
  {
   "cell_type": "code",
   "execution_count": 83,
   "id": "cdacd015",
   "metadata": {},
   "outputs": [],
   "source": [
    "# assign those features to X variable\n",
    "X_train = df_train[base].values"
   ]
  },
  {
   "cell_type": "code",
   "execution_count": 101,
   "id": "bd899ab0",
   "metadata": {},
   "outputs": [
    {
     "data": {
      "text/plain": [
       "4848"
      ]
     },
     "execution_count": 101,
     "metadata": {},
     "output_type": "execute_result"
    }
   ],
   "source": [
    "# check how many null features are there in reviews_per_month\n",
    "df_train[base].reviews_per_month.isnull().sum()"
   ]
  },
  {
   "cell_type": "code",
   "execution_count": 102,
   "id": "a92c5343",
   "metadata": {},
   "outputs": [
    {
     "data": {
      "text/plain": [
       "1.0217775327698346"
      ]
     },
     "execution_count": 102,
     "metadata": {},
     "output_type": "execute_result"
    }
   ],
   "source": [
    "# calculate the mean of values of the feature reviews_per_month\n",
    "df_train[base].reviews_per_month.mean()"
   ]
  },
  {
   "cell_type": "markdown",
   "id": "9413243c",
   "metadata": {},
   "source": [
    "Filling null values in <b>reviews_per_month</b> using <b>zeros</b> and <b>mean</b> separately."
   ]
  },
  {
   "cell_type": "code",
   "execution_count": 90,
   "id": "e9a3cd60",
   "metadata": {},
   "outputs": [],
   "source": [
    "# fill null values with zeros\n",
    "X_train_nzeros = df_train[base].fillna(0).values"
   ]
  },
  {
   "cell_type": "code",
   "execution_count": 103,
   "id": "1d7b9333",
   "metadata": {},
   "outputs": [],
   "source": [
    "# fill null values with mean\n",
    "X_train_nmean = df_train[base].fillna(1.0217775327698346).values"
   ]
  },
  {
   "cell_type": "code",
   "execution_count": 104,
   "id": "ff818ec7",
   "metadata": {},
   "outputs": [],
   "source": [
    "# create the weights with X_train_nzeros\n",
    "w0, w = train_linear_regression(X_train_nzeros, y_train)"
   ]
  },
  {
   "cell_type": "code",
   "execution_count": 108,
   "id": "53c196e2",
   "metadata": {},
   "outputs": [],
   "source": [
    "# predictions\n",
    "y_pred_nzeros = w0 + X_train_nzeros.dot(w)"
   ]
  },
  {
   "cell_type": "code",
   "execution_count": 113,
   "id": "ce17fca5",
   "metadata": {},
   "outputs": [
    {
     "data": {
      "text/plain": [
       "<AxesSubplot:ylabel='Count'>"
      ]
     },
     "execution_count": 113,
     "metadata": {},
     "output_type": "execute_result"
    },
    {
     "data": {
      "image/png": "[encoded data removed]",
      "text/plain": [
       "<Figure size 432x288 with 1 Axes>"
      ]
     },
     "metadata": {
      "needs_background": "light"
     },
     "output_type": "display_data"
    }
   ],
   "source": [
    "# histogram plot to compare the predictions and the real target values\n",
    "sns.histplot(y_pred_nzeros, color=\"red\", alpha=0.5, bins=50)\n",
    "sns.histplot(y_train, color=\"blue\", alpha=0.5, bins=50)"
   ]
  },
  {
   "cell_type": "code",
   "execution_count": 105,
   "id": "4ca99d4f",
   "metadata": {},
   "outputs": [],
   "source": [
    "# create weights with X_train_nmean\n",
    "w0, w = train_linear_regression(X_train_nmean, y_train)"
   ]
  },
  {
   "cell_type": "code",
   "execution_count": 106,
   "id": "21a4fe04",
   "metadata": {},
   "outputs": [],
   "source": [
    "# predictions for null filled with mean\n",
    "y_pred_nmean = w0 + X_train_nmean.dot(w)"
   ]
  },
  {
   "cell_type": "code",
   "execution_count": 112,
   "id": "aab3bdfe",
   "metadata": {},
   "outputs": [
    {
     "data": {
      "text/plain": [
       "<AxesSubplot:ylabel='Count'>"
      ]
     },
     "execution_count": 112,
     "metadata": {},
     "output_type": "execute_result"
    },
    {
     "data": {
      "image/png": "[encoded data removed]",
      "text/plain": [
       "<Figure size 432x288 with 1 Axes>"
      ]
     },
     "metadata": {
      "needs_background": "light"
     },
     "output_type": "display_data"
    }
   ],
   "source": [
    "# histogram plot to compare the predictions of null filled with mean and the original target values\n",
    "sns.histplot(y_pred_nmean, color=\"red\", alpha=0.5, bins=50)\n",
    "sns.histplot(y_train, color=\"blue\", alpha=0.5, bins=50)"
   ]
  },
  {
   "cell_type": "markdown",
   "id": "3e872782",
   "metadata": {},
   "source": [
    "The two histograms are almost the same, this means that filling null values in reviews_per_month with either zeros or the mean value in this dataset would potentially give the same result. However, this is not the best conclusion yet, <b> Root Mean Squared Error</b> below will give a better conclusion."
   ]
  },
  {
   "cell_type": "markdown",
   "id": "d805cff3",
   "metadata": {},
   "source": [
    "## Root Mean Squared Error"
   ]
  },
  {
   "cell_type": "code",
   "execution_count": 114,
   "id": "c4ab1e60",
   "metadata": {},
   "outputs": [],
   "source": [
    "def rmse(y, y_pred):\n",
    "    se = (y - y_pred) ** 2\n",
    "    mse = se.mean()\n",
    "    \n",
    "    return np.sqrt(mse)"
   ]
  },
  {
   "cell_type": "code",
   "execution_count": 115,
   "id": "bbfb7d22",
   "metadata": {},
   "outputs": [
    {
     "data": {
      "text/plain": [
       "0.6212191932876913"
      ]
     },
     "execution_count": 115,
     "metadata": {},
     "output_type": "execute_result"
    }
   ],
   "source": [
    "rmse(y_train, y_pred_nzeros)"
   ]
  },
  {
   "cell_type": "code",
   "execution_count": 116,
   "id": "ddf7059f",
   "metadata": {},
   "outputs": [
    {
     "data": {
      "text/plain": [
       "0.6210570043312085"
      ]
     },
     "execution_count": 116,
     "metadata": {},
     "output_type": "execute_result"
    }
   ],
   "source": [
    "rmse(y_train, y_pred_nmean)"
   ]
  },
  {
   "cell_type": "markdown",
   "id": "97e5853d",
   "metadata": {},
   "source": [
    "Root Mean Square Error (RMSE) is fairy the same for both sets, that is, those whose missing values are filled with zeros and those that are filled with the mean value"
   ]
  },
  {
   "cell_type": "markdown",
   "id": "14139807",
   "metadata": {},
   "source": [
    "## Validating the Model"
   ]
  },
  {
   "cell_type": "code",
   "execution_count": 117,
   "id": "d74f6933",
   "metadata": {},
   "outputs": [],
   "source": [
    "# data subset used in the model\n",
    "base = [\n",
    "    'latitude', 'longitude', 'minimum_nights', 'number_of_reviews', 'reviews_per_month',\n",
    "    'calculated_host_listings_count', 'availability_365'\n",
    "]\n",
    "X_train = df_train[base].fillna(0).values\n",
    "\n",
    "w0, w = train_linear_regression(X_train, y_train)\n",
    "\n",
    "y_pred = w0 + X_train.dot(w)"
   ]
  },
  {
   "cell_type": "code",
   "execution_count": 118,
   "id": "26ced108",
   "metadata": {},
   "outputs": [],
   "source": [
    "# function to prepare X variables from the subset\n",
    "def prepare_X(df):\n",
    "    df_num = df[base]\n",
    "    \n",
    "    df_num = df_num.fillna(0)\n",
    "    X = df_num.values\n",
    "    \n",
    "    return X"
   ]
  },
  {
   "cell_type": "code",
   "execution_count": 120,
   "id": "e9803533",
   "metadata": {},
   "outputs": [
    {
     "data": {
      "text/plain": [
       "0.6643750660377807"
      ]
     },
     "execution_count": 120,
     "metadata": {},
     "output_type": "execute_result"
    }
   ],
   "source": [
    "# Use RMSE on the validation data\n",
    "X_train = prepare_X(df_train)\n",
    "w0, w = train_linear_regression(X_train, y_train)\n",
    "\n",
    "X_val = prepare_X(df_val)\n",
    "y_pred = w0 + X_val.dot(w)\n",
    "\n",
    "rmse(y_val, y_pred)"
   ]
  },
  {
   "cell_type": "markdown",
   "id": "66ce1b65",
   "metadata": {},
   "source": [
    "<b>RMSE</b> on validation set is larger than on train set."
   ]
  },
  {
   "cell_type": "markdown",
   "id": "d06e09df",
   "metadata": {},
   "source": [
    "## Categorical Variables"
   ]
  },
  {
   "cell_type": "markdown",
   "id": "17ae2b50",
   "metadata": {},
   "source": [
    "These are features whose values are of string data type referred to as <b>objects</b>."
   ]
  },
  {
   "cell_type": "code",
   "execution_count": 123,
   "id": "c00abcd0",
   "metadata": {},
   "outputs": [
    {
     "data": {
      "text/plain": [
       "['name',\n",
       " 'host_name',\n",
       " 'neighbourhood_group',\n",
       " 'neighbourhood',\n",
       " 'room_type',\n",
       " 'last_review']"
      ]
     },
     "execution_count": 123,
     "metadata": {},
     "output_type": "execute_result"
    }
   ],
   "source": [
    "# check for columns with object dtype\n",
    "strings = list(df.dtypes[df.dtypes == \"object\"].index)\n",
    "strings"
   ]
  },
  {
   "cell_type": "code",
   "execution_count": 125,
   "id": "be767621",
   "metadata": {},
   "outputs": [],
   "source": [
    "# all categorical variables\n",
    "categorical_variables = ['name',\n",
    " 'host_name',\n",
    " 'neighbourhood_group',\n",
    " 'neighbourhood',\n",
    " 'room_type',\n",
    " 'last_review']"
   ]
  },
  {
   "cell_type": "code",
   "execution_count": 136,
   "id": "e7f62fac",
   "metadata": {},
   "outputs": [],
   "source": [
    "# create a dictionary for all categorical variables and loop over top five values of each one of them\n",
    "categories = {}\n",
    "for c in categorical_variables:\n",
    "    categories[c] = list(df[c].value_counts().head().index)"
   ]
  },
  {
   "cell_type": "code",
   "execution_count": 137,
   "id": "e8bb0566",
   "metadata": {},
   "outputs": [
    {
     "data": {
      "text/plain": [
       "{'name': ['home_away_from_home',\n",
       "  'private_room',\n",
       "  'hillside_hotel',\n",
       "  'new_york_multi-unit_building',\n",
       "  'private_room_in_williamsburg'],\n",
       " 'host_name': ['michael', 'david', 'sonder_(nyc)', 'john', 'alex'],\n",
       " 'neighbourhood_group': ['manhattan',\n",
       "  'brooklyn',\n",
       "  'queens',\n",
       "  'bronx',\n",
       "  'staten_island'],\n",
       " 'neighbourhood': ['williamsburg',\n",
       "  'bedford-stuyvesant',\n",
       "  'harlem',\n",
       "  'bushwick',\n",
       "  'upper_west_side'],\n",
       " 'room_type': ['entire_home/apt', 'private_room', 'shared_room'],\n",
       " 'last_review': ['2019-06-23',\n",
       "  '2019-07-01',\n",
       "  '2019-06-30',\n",
       "  '2019-06-24',\n",
       "  '2019-07-07']}"
      ]
     },
     "execution_count": 137,
     "metadata": {},
     "output_type": "execute_result"
    }
   ],
   "source": [
    "# Top five values of all categorical variables\n",
    "categories"
   ]
  },
  {
   "cell_type": "code",
   "execution_count": 138,
   "id": "6367c186",
   "metadata": {},
   "outputs": [],
   "source": [
    "# customize the prepare_X function for all categorical variables\n",
    "def prepare_X(df):\n",
    "    df = df.copy()\n",
    "    features = base.copy()\n",
    "    \n",
    "    for c, values in categories.items():\n",
    "        for v in values:\n",
    "            df[\"%s_%s\" %(c, v)] = (df[c] == v).astype(\"int\")\n",
    "            features.append(\"%s_%s\" %(c, v))\n",
    "    \n",
    "    df_num = df[features]\n",
    "    df_num = df_num.fillna(0)\n",
    "    X = df_num.values\n",
    "    \n",
    "    return X"
   ]
  },
  {
   "cell_type": "code",
   "execution_count": null,
   "id": "5d4bc146",
   "metadata": {},
   "outputs": [],
   "source": []
  }
 ],
 "metadata": {
  "kernelspec": {
   "display_name": "Python 3 (ipykernel)",
   "language": "python",
   "name": "python3"
  },
  "language_info": {
   "codemirror_mode": {
    "name": "ipython",
    "version": 3
   },
   "file_extension": ".py",
   "mimetype": "text/x-python",
   "name": "python",
   "nbconvert_exporter": "python",
   "pygments_lexer": "ipython3",
   "version": "3.9.12"
  }
 },
 "nbformat": 4,
 "nbformat_minor": 5
}
